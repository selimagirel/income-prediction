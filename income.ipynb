{
 "cells": [
  {
   "cell_type": "code",
   "execution_count": 2,
   "id": "603deaff-e2c0-4233-a3de-5dcaa78c789b",
   "metadata": {
    "ExecuteTime": {
     "end_time": "2023-10-18T08:48:06.078663Z",
     "start_time": "2023-10-18T08:48:05.515638Z"
    }
   },
   "outputs": [],
   "source": [
    "import pandas as pd "
   ]
  },
  {
   "cell_type": "code",
   "execution_count": 3,
   "id": "fa377058-7c7c-428f-9d25-1e8ca781a513",
   "metadata": {
    "ExecuteTime": {
     "end_time": "2023-10-18T08:48:06.240559Z",
     "start_time": "2023-10-18T08:48:06.181424Z"
    }
   },
   "outputs": [],
   "source": [
    "df = pd.read_csv('income.csv')  "
   ]
  },
  {
   "cell_type": "code",
   "execution_count": 4,
   "id": "83d2fff5-f9ce-488f-9e35-8a6d929f5064",
   "metadata": {
    "ExecuteTime": {
     "end_time": "2023-10-18T08:48:06.818088Z",
     "start_time": "2023-10-18T08:48:06.811368Z"
    }
   },
   "outputs": [
    {
     "data": {
      "text/plain": "education\nHS-grad         15784\nSome-college    10878\nBachelors        8025\nMasters          2657\nAssoc-voc        2061\n11th             1812\nAssoc-acdm       1601\n10th             1389\n7th-8th           955\nProf-school       834\n9th               756\n12th              657\nDoctorate         594\n5th-6th           509\n1st-4th           247\nPreschool          83\nName: count, dtype: int64"
     },
     "execution_count": 4,
     "metadata": {},
     "output_type": "execute_result"
    }
   ],
   "source": [
    "df.education.value_counts()"
   ]
  },
  {
   "cell_type": "code",
   "execution_count": 5,
   "outputs": [
    {
     "data": {
      "text/plain": "       age     workclass  fnlwgt     education  educational-num  \\\n0       25       Private  226802          11th                7   \n1       38       Private   89814       HS-grad                9   \n2       28     Local-gov  336951    Assoc-acdm               12   \n3       44       Private  160323  Some-college               10   \n4       18             ?  103497  Some-college               10   \n...    ...           ...     ...           ...              ...   \n48837   27       Private  257302    Assoc-acdm               12   \n48838   40       Private  154374       HS-grad                9   \n48839   58       Private  151910       HS-grad                9   \n48840   22       Private  201490       HS-grad                9   \n48841   52  Self-emp-inc  287927       HS-grad                9   \n\n           marital-status         occupation relationship   race  gender  \\\n0           Never-married  Machine-op-inspct    Own-child  Black    Male   \n1      Married-civ-spouse    Farming-fishing      Husband  White    Male   \n2      Married-civ-spouse    Protective-serv      Husband  White    Male   \n3      Married-civ-spouse  Machine-op-inspct      Husband  Black    Male   \n4           Never-married                  ?    Own-child  White  Female   \n...                   ...                ...          ...    ...     ...   \n48837  Married-civ-spouse       Tech-support         Wife  White  Female   \n48838  Married-civ-spouse  Machine-op-inspct      Husband  White    Male   \n48839             Widowed       Adm-clerical    Unmarried  White  Female   \n48840       Never-married       Adm-clerical    Own-child  White    Male   \n48841  Married-civ-spouse    Exec-managerial         Wife  White  Female   \n\n       capital-gain  capital-loss  hours-per-week native-country income  \n0                 0             0              40  United-States  <=50K  \n1                 0             0              50  United-States  <=50K  \n2                 0             0              40  United-States   >50K  \n3              7688             0              40  United-States   >50K  \n4                 0             0              30  United-States  <=50K  \n...             ...           ...             ...            ...    ...  \n48837             0             0              38  United-States  <=50K  \n48838             0             0              40  United-States   >50K  \n48839             0             0              40  United-States  <=50K  \n48840             0             0              20  United-States  <=50K  \n48841         15024             0              40  United-States   >50K  \n\n[48842 rows x 15 columns]",
      "text/html": "<div>\n<style scoped>\n    .dataframe tbody tr th:only-of-type {\n        vertical-align: middle;\n    }\n\n    .dataframe tbody tr th {\n        vertical-align: top;\n    }\n\n    .dataframe thead th {\n        text-align: right;\n    }\n</style>\n<table border=\"1\" class=\"dataframe\">\n  <thead>\n    <tr style=\"text-align: right;\">\n      <th></th>\n      <th>age</th>\n      <th>workclass</th>\n      <th>fnlwgt</th>\n      <th>education</th>\n      <th>educational-num</th>\n      <th>marital-status</th>\n      <th>occupation</th>\n      <th>relationship</th>\n      <th>race</th>\n      <th>gender</th>\n      <th>capital-gain</th>\n      <th>capital-loss</th>\n      <th>hours-per-week</th>\n      <th>native-country</th>\n      <th>income</th>\n    </tr>\n  </thead>\n  <tbody>\n    <tr>\n      <th>0</th>\n      <td>25</td>\n      <td>Private</td>\n      <td>226802</td>\n      <td>11th</td>\n      <td>7</td>\n      <td>Never-married</td>\n      <td>Machine-op-inspct</td>\n      <td>Own-child</td>\n      <td>Black</td>\n      <td>Male</td>\n      <td>0</td>\n      <td>0</td>\n      <td>40</td>\n      <td>United-States</td>\n      <td>&lt;=50K</td>\n    </tr>\n    <tr>\n      <th>1</th>\n      <td>38</td>\n      <td>Private</td>\n      <td>89814</td>\n      <td>HS-grad</td>\n      <td>9</td>\n      <td>Married-civ-spouse</td>\n      <td>Farming-fishing</td>\n      <td>Husband</td>\n      <td>White</td>\n      <td>Male</td>\n      <td>0</td>\n      <td>0</td>\n      <td>50</td>\n      <td>United-States</td>\n      <td>&lt;=50K</td>\n    </tr>\n    <tr>\n      <th>2</th>\n      <td>28</td>\n      <td>Local-gov</td>\n      <td>336951</td>\n      <td>Assoc-acdm</td>\n      <td>12</td>\n      <td>Married-civ-spouse</td>\n      <td>Protective-serv</td>\n      <td>Husband</td>\n      <td>White</td>\n      <td>Male</td>\n      <td>0</td>\n      <td>0</td>\n      <td>40</td>\n      <td>United-States</td>\n      <td>&gt;50K</td>\n    </tr>\n    <tr>\n      <th>3</th>\n      <td>44</td>\n      <td>Private</td>\n      <td>160323</td>\n      <td>Some-college</td>\n      <td>10</td>\n      <td>Married-civ-spouse</td>\n      <td>Machine-op-inspct</td>\n      <td>Husband</td>\n      <td>Black</td>\n      <td>Male</td>\n      <td>7688</td>\n      <td>0</td>\n      <td>40</td>\n      <td>United-States</td>\n      <td>&gt;50K</td>\n    </tr>\n    <tr>\n      <th>4</th>\n      <td>18</td>\n      <td>?</td>\n      <td>103497</td>\n      <td>Some-college</td>\n      <td>10</td>\n      <td>Never-married</td>\n      <td>?</td>\n      <td>Own-child</td>\n      <td>White</td>\n      <td>Female</td>\n      <td>0</td>\n      <td>0</td>\n      <td>30</td>\n      <td>United-States</td>\n      <td>&lt;=50K</td>\n    </tr>\n    <tr>\n      <th>...</th>\n      <td>...</td>\n      <td>...</td>\n      <td>...</td>\n      <td>...</td>\n      <td>...</td>\n      <td>...</td>\n      <td>...</td>\n      <td>...</td>\n      <td>...</td>\n      <td>...</td>\n      <td>...</td>\n      <td>...</td>\n      <td>...</td>\n      <td>...</td>\n      <td>...</td>\n    </tr>\n    <tr>\n      <th>48837</th>\n      <td>27</td>\n      <td>Private</td>\n      <td>257302</td>\n      <td>Assoc-acdm</td>\n      <td>12</td>\n      <td>Married-civ-spouse</td>\n      <td>Tech-support</td>\n      <td>Wife</td>\n      <td>White</td>\n      <td>Female</td>\n      <td>0</td>\n      <td>0</td>\n      <td>38</td>\n      <td>United-States</td>\n      <td>&lt;=50K</td>\n    </tr>\n    <tr>\n      <th>48838</th>\n      <td>40</td>\n      <td>Private</td>\n      <td>154374</td>\n      <td>HS-grad</td>\n      <td>9</td>\n      <td>Married-civ-spouse</td>\n      <td>Machine-op-inspct</td>\n      <td>Husband</td>\n      <td>White</td>\n      <td>Male</td>\n      <td>0</td>\n      <td>0</td>\n      <td>40</td>\n      <td>United-States</td>\n      <td>&gt;50K</td>\n    </tr>\n    <tr>\n      <th>48839</th>\n      <td>58</td>\n      <td>Private</td>\n      <td>151910</td>\n      <td>HS-grad</td>\n      <td>9</td>\n      <td>Widowed</td>\n      <td>Adm-clerical</td>\n      <td>Unmarried</td>\n      <td>White</td>\n      <td>Female</td>\n      <td>0</td>\n      <td>0</td>\n      <td>40</td>\n      <td>United-States</td>\n      <td>&lt;=50K</td>\n    </tr>\n    <tr>\n      <th>48840</th>\n      <td>22</td>\n      <td>Private</td>\n      <td>201490</td>\n      <td>HS-grad</td>\n      <td>9</td>\n      <td>Never-married</td>\n      <td>Adm-clerical</td>\n      <td>Own-child</td>\n      <td>White</td>\n      <td>Male</td>\n      <td>0</td>\n      <td>0</td>\n      <td>20</td>\n      <td>United-States</td>\n      <td>&lt;=50K</td>\n    </tr>\n    <tr>\n      <th>48841</th>\n      <td>52</td>\n      <td>Self-emp-inc</td>\n      <td>287927</td>\n      <td>HS-grad</td>\n      <td>9</td>\n      <td>Married-civ-spouse</td>\n      <td>Exec-managerial</td>\n      <td>Wife</td>\n      <td>White</td>\n      <td>Female</td>\n      <td>15024</td>\n      <td>0</td>\n      <td>40</td>\n      <td>United-States</td>\n      <td>&gt;50K</td>\n    </tr>\n  </tbody>\n</table>\n<p>48842 rows × 15 columns</p>\n</div>"
     },
     "execution_count": 5,
     "metadata": {},
     "output_type": "execute_result"
    }
   ],
   "source": [
    "df"
   ],
   "metadata": {
    "collapsed": false,
    "ExecuteTime": {
     "end_time": "2023-10-18T08:48:07.451582Z",
     "start_time": "2023-10-18T08:48:07.442222Z"
    }
   },
   "id": "d6c828cb6c03866e"
  },
  {
   "cell_type": "code",
   "execution_count": 6,
   "outputs": [
    {
     "data": {
      "text/plain": "Index(['age', 'workclass', 'fnlwgt', 'education', 'educational-num',\n       'marital-status', 'occupation', 'relationship', 'race', 'gender',\n       'capital-gain', 'capital-loss', 'hours-per-week', 'native-country',\n       'income'],\n      dtype='object')"
     },
     "execution_count": 6,
     "metadata": {},
     "output_type": "execute_result"
    }
   ],
   "source": [
    "df.columns"
   ],
   "metadata": {
    "collapsed": false,
    "ExecuteTime": {
     "end_time": "2023-10-18T08:48:08.188516Z",
     "start_time": "2023-10-18T08:48:08.185937Z"
    }
   },
   "id": "d46e22cb2f6b6ec8"
  },
  {
   "cell_type": "code",
   "execution_count": 7,
   "id": "65f80c72-ebdf-46e4-ae0f-cf5dfb772474",
   "metadata": {
    "ExecuteTime": {
     "end_time": "2023-10-18T08:48:08.901821Z",
     "start_time": "2023-10-18T08:48:08.898945Z"
    }
   },
   "outputs": [
    {
     "data": {
      "text/plain": "occupation\nProf-specialty       6172\nCraft-repair         6112\nExec-managerial      6086\nAdm-clerical         5611\nSales                5504\nOther-service        4923\nMachine-op-inspct    3022\n?                    2809\nTransport-moving     2355\nHandlers-cleaners    2072\nFarming-fishing      1490\nTech-support         1446\nProtective-serv       983\nPriv-house-serv       242\nArmed-Forces           15\nName: count, dtype: int64"
     },
     "execution_count": 7,
     "metadata": {},
     "output_type": "execute_result"
    }
   ],
   "source": [
    "df.occupation.value_counts()"
   ]
  },
  {
   "cell_type": "code",
   "execution_count": 8,
   "id": "cc614adc-bf1d-43e0-91d0-8b6724533f07",
   "metadata": {
    "ExecuteTime": {
     "end_time": "2023-10-18T08:48:09.787807Z",
     "start_time": "2023-10-18T08:48:09.667999Z"
    }
   },
   "outputs": [],
   "source": [
    "df = pd.concat([df.drop('occupation', axis=1), pd.get_dummies(df.occupation).add_prefix('occupation_').astype(int)], axis=1)\n",
    "df = pd.concat([df.drop('workclass',axis=1) ,pd.get_dummies(df.workclass).add_prefix('workclass_').astype(int)],axis=1)\n",
    "df = df.drop('education',axis=1)\n",
    "df = pd.concat([df.drop('marital-status',axis=1) ,pd.get_dummies(df['marital-status']).add_prefix('marital-status_').astype(int)],axis=1)\n",
    "df = pd.concat([df.drop('relationship',axis=1) ,pd.get_dummies(df.relationship).add_prefix('relationship_').astype(int)],axis=1)\n",
    "df = pd.concat([df.drop('race',axis=1) ,pd.get_dummies(df.race).add_prefix('race_').astype(int)],axis=1)\n",
    "df = pd.concat([df.drop('native-country',axis=1) ,pd.get_dummies(df['native-country']).add_prefix('native-country_').astype(int)],axis=1)"
   ]
  },
  {
   "cell_type": "code",
   "execution_count": 9,
   "id": "b454a435-9869-4df6-989d-d1a06b2e8f2b",
   "metadata": {
    "ExecuteTime": {
     "end_time": "2023-10-18T08:48:11.071759Z",
     "start_time": "2023-10-18T08:48:11.053428Z"
    }
   },
   "outputs": [
    {
     "data": {
      "text/plain": "       age  fnlwgt  educational-num  gender  capital-gain  capital-loss  \\\n0       25  226802                7    Male             0             0   \n1       38   89814                9    Male             0             0   \n2       28  336951               12    Male             0             0   \n3       44  160323               10    Male          7688             0   \n4       18  103497               10  Female             0             0   \n...    ...     ...              ...     ...           ...           ...   \n48837   27  257302               12  Female             0             0   \n48838   40  154374                9    Male             0             0   \n48839   58  151910                9  Female             0             0   \n48840   22  201490                9    Male             0             0   \n48841   52  287927                9  Female         15024             0   \n\n       hours-per-week income  occupation_?  occupation_Adm-clerical  ...  \\\n0                  40  <=50K             0                        0  ...   \n1                  50  <=50K             0                        0  ...   \n2                  40   >50K             0                        0  ...   \n3                  40   >50K             0                        0  ...   \n4                  30  <=50K             1                        0  ...   \n...               ...    ...           ...                      ...  ...   \n48837              38  <=50K             0                        0  ...   \n48838              40   >50K             0                        0  ...   \n48839              40  <=50K             0                        1  ...   \n48840              20  <=50K             0                        1  ...   \n48841              40   >50K             0                        0  ...   \n\n       native-country_Portugal  native-country_Puerto-Rico  \\\n0                            0                           0   \n1                            0                           0   \n2                            0                           0   \n3                            0                           0   \n4                            0                           0   \n...                        ...                         ...   \n48837                        0                           0   \n48838                        0                           0   \n48839                        0                           0   \n48840                        0                           0   \n48841                        0                           0   \n\n       native-country_Scotland  native-country_South  native-country_Taiwan  \\\n0                            0                     0                      0   \n1                            0                     0                      0   \n2                            0                     0                      0   \n3                            0                     0                      0   \n4                            0                     0                      0   \n...                        ...                   ...                    ...   \n48837                        0                     0                      0   \n48838                        0                     0                      0   \n48839                        0                     0                      0   \n48840                        0                     0                      0   \n48841                        0                     0                      0   \n\n       native-country_Thailand  native-country_Trinadad&Tobago  \\\n0                            0                               0   \n1                            0                               0   \n2                            0                               0   \n3                            0                               0   \n4                            0                               0   \n...                        ...                             ...   \n48837                        0                               0   \n48838                        0                               0   \n48839                        0                               0   \n48840                        0                               0   \n48841                        0                               0   \n\n       native-country_United-States  native-country_Vietnam  \\\n0                                 1                       0   \n1                                 1                       0   \n2                                 1                       0   \n3                                 1                       0   \n4                                 1                       0   \n...                             ...                     ...   \n48837                             1                       0   \n48838                             1                       0   \n48839                             1                       0   \n48840                             1                       0   \n48841                             1                       0   \n\n       native-country_Yugoslavia  \n0                              0  \n1                              0  \n2                              0  \n3                              0  \n4                              0  \n...                          ...  \n48837                          0  \n48838                          0  \n48839                          0  \n48840                          0  \n48841                          0  \n\n[48842 rows x 92 columns]",
      "text/html": "<div>\n<style scoped>\n    .dataframe tbody tr th:only-of-type {\n        vertical-align: middle;\n    }\n\n    .dataframe tbody tr th {\n        vertical-align: top;\n    }\n\n    .dataframe thead th {\n        text-align: right;\n    }\n</style>\n<table border=\"1\" class=\"dataframe\">\n  <thead>\n    <tr style=\"text-align: right;\">\n      <th></th>\n      <th>age</th>\n      <th>fnlwgt</th>\n      <th>educational-num</th>\n      <th>gender</th>\n      <th>capital-gain</th>\n      <th>capital-loss</th>\n      <th>hours-per-week</th>\n      <th>income</th>\n      <th>occupation_?</th>\n      <th>occupation_Adm-clerical</th>\n      <th>...</th>\n      <th>native-country_Portugal</th>\n      <th>native-country_Puerto-Rico</th>\n      <th>native-country_Scotland</th>\n      <th>native-country_South</th>\n      <th>native-country_Taiwan</th>\n      <th>native-country_Thailand</th>\n      <th>native-country_Trinadad&amp;Tobago</th>\n      <th>native-country_United-States</th>\n      <th>native-country_Vietnam</th>\n      <th>native-country_Yugoslavia</th>\n    </tr>\n  </thead>\n  <tbody>\n    <tr>\n      <th>0</th>\n      <td>25</td>\n      <td>226802</td>\n      <td>7</td>\n      <td>Male</td>\n      <td>0</td>\n      <td>0</td>\n      <td>40</td>\n      <td>&lt;=50K</td>\n      <td>0</td>\n      <td>0</td>\n      <td>...</td>\n      <td>0</td>\n      <td>0</td>\n      <td>0</td>\n      <td>0</td>\n      <td>0</td>\n      <td>0</td>\n      <td>0</td>\n      <td>1</td>\n      <td>0</td>\n      <td>0</td>\n    </tr>\n    <tr>\n      <th>1</th>\n      <td>38</td>\n      <td>89814</td>\n      <td>9</td>\n      <td>Male</td>\n      <td>0</td>\n      <td>0</td>\n      <td>50</td>\n      <td>&lt;=50K</td>\n      <td>0</td>\n      <td>0</td>\n      <td>...</td>\n      <td>0</td>\n      <td>0</td>\n      <td>0</td>\n      <td>0</td>\n      <td>0</td>\n      <td>0</td>\n      <td>0</td>\n      <td>1</td>\n      <td>0</td>\n      <td>0</td>\n    </tr>\n    <tr>\n      <th>2</th>\n      <td>28</td>\n      <td>336951</td>\n      <td>12</td>\n      <td>Male</td>\n      <td>0</td>\n      <td>0</td>\n      <td>40</td>\n      <td>&gt;50K</td>\n      <td>0</td>\n      <td>0</td>\n      <td>...</td>\n      <td>0</td>\n      <td>0</td>\n      <td>0</td>\n      <td>0</td>\n      <td>0</td>\n      <td>0</td>\n      <td>0</td>\n      <td>1</td>\n      <td>0</td>\n      <td>0</td>\n    </tr>\n    <tr>\n      <th>3</th>\n      <td>44</td>\n      <td>160323</td>\n      <td>10</td>\n      <td>Male</td>\n      <td>7688</td>\n      <td>0</td>\n      <td>40</td>\n      <td>&gt;50K</td>\n      <td>0</td>\n      <td>0</td>\n      <td>...</td>\n      <td>0</td>\n      <td>0</td>\n      <td>0</td>\n      <td>0</td>\n      <td>0</td>\n      <td>0</td>\n      <td>0</td>\n      <td>1</td>\n      <td>0</td>\n      <td>0</td>\n    </tr>\n    <tr>\n      <th>4</th>\n      <td>18</td>\n      <td>103497</td>\n      <td>10</td>\n      <td>Female</td>\n      <td>0</td>\n      <td>0</td>\n      <td>30</td>\n      <td>&lt;=50K</td>\n      <td>1</td>\n      <td>0</td>\n      <td>...</td>\n      <td>0</td>\n      <td>0</td>\n      <td>0</td>\n      <td>0</td>\n      <td>0</td>\n      <td>0</td>\n      <td>0</td>\n      <td>1</td>\n      <td>0</td>\n      <td>0</td>\n    </tr>\n    <tr>\n      <th>...</th>\n      <td>...</td>\n      <td>...</td>\n      <td>...</td>\n      <td>...</td>\n      <td>...</td>\n      <td>...</td>\n      <td>...</td>\n      <td>...</td>\n      <td>...</td>\n      <td>...</td>\n      <td>...</td>\n      <td>...</td>\n      <td>...</td>\n      <td>...</td>\n      <td>...</td>\n      <td>...</td>\n      <td>...</td>\n      <td>...</td>\n      <td>...</td>\n      <td>...</td>\n      <td>...</td>\n    </tr>\n    <tr>\n      <th>48837</th>\n      <td>27</td>\n      <td>257302</td>\n      <td>12</td>\n      <td>Female</td>\n      <td>0</td>\n      <td>0</td>\n      <td>38</td>\n      <td>&lt;=50K</td>\n      <td>0</td>\n      <td>0</td>\n      <td>...</td>\n      <td>0</td>\n      <td>0</td>\n      <td>0</td>\n      <td>0</td>\n      <td>0</td>\n      <td>0</td>\n      <td>0</td>\n      <td>1</td>\n      <td>0</td>\n      <td>0</td>\n    </tr>\n    <tr>\n      <th>48838</th>\n      <td>40</td>\n      <td>154374</td>\n      <td>9</td>\n      <td>Male</td>\n      <td>0</td>\n      <td>0</td>\n      <td>40</td>\n      <td>&gt;50K</td>\n      <td>0</td>\n      <td>0</td>\n      <td>...</td>\n      <td>0</td>\n      <td>0</td>\n      <td>0</td>\n      <td>0</td>\n      <td>0</td>\n      <td>0</td>\n      <td>0</td>\n      <td>1</td>\n      <td>0</td>\n      <td>0</td>\n    </tr>\n    <tr>\n      <th>48839</th>\n      <td>58</td>\n      <td>151910</td>\n      <td>9</td>\n      <td>Female</td>\n      <td>0</td>\n      <td>0</td>\n      <td>40</td>\n      <td>&lt;=50K</td>\n      <td>0</td>\n      <td>1</td>\n      <td>...</td>\n      <td>0</td>\n      <td>0</td>\n      <td>0</td>\n      <td>0</td>\n      <td>0</td>\n      <td>0</td>\n      <td>0</td>\n      <td>1</td>\n      <td>0</td>\n      <td>0</td>\n    </tr>\n    <tr>\n      <th>48840</th>\n      <td>22</td>\n      <td>201490</td>\n      <td>9</td>\n      <td>Male</td>\n      <td>0</td>\n      <td>0</td>\n      <td>20</td>\n      <td>&lt;=50K</td>\n      <td>0</td>\n      <td>1</td>\n      <td>...</td>\n      <td>0</td>\n      <td>0</td>\n      <td>0</td>\n      <td>0</td>\n      <td>0</td>\n      <td>0</td>\n      <td>0</td>\n      <td>1</td>\n      <td>0</td>\n      <td>0</td>\n    </tr>\n    <tr>\n      <th>48841</th>\n      <td>52</td>\n      <td>287927</td>\n      <td>9</td>\n      <td>Female</td>\n      <td>15024</td>\n      <td>0</td>\n      <td>40</td>\n      <td>&gt;50K</td>\n      <td>0</td>\n      <td>0</td>\n      <td>...</td>\n      <td>0</td>\n      <td>0</td>\n      <td>0</td>\n      <td>0</td>\n      <td>0</td>\n      <td>0</td>\n      <td>0</td>\n      <td>1</td>\n      <td>0</td>\n      <td>0</td>\n    </tr>\n  </tbody>\n</table>\n<p>48842 rows × 92 columns</p>\n</div>"
     },
     "execution_count": 9,
     "metadata": {},
     "output_type": "execute_result"
    }
   ],
   "source": [
    "df"
   ]
  },
  {
   "cell_type": "code",
   "execution_count": 10,
   "id": "47f97d64-d56c-4351-8cfb-45e5958bc89a",
   "metadata": {
    "ExecuteTime": {
     "end_time": "2023-10-18T08:48:11.630294Z",
     "start_time": "2023-10-18T08:48:11.620790Z"
    }
   },
   "outputs": [],
   "source": [
    "df['gender'] = df['gender'].apply(lambda x: 1 if x == 'Male' else 0)\n",
    "df['income'] = df['income'].apply(lambda x: 1 if x == '>50K' else 0)"
   ]
  },
  {
   "cell_type": "code",
   "execution_count": 11,
   "id": "7256691e-9aee-4d16-91d6-96358bd91c9f",
   "metadata": {
    "ExecuteTime": {
     "end_time": "2023-10-18T08:48:12.489982Z",
     "start_time": "2023-10-18T08:48:12.486124Z"
    }
   },
   "outputs": [
    {
     "data": {
      "text/plain": "Index(['age', 'fnlwgt', 'educational-num', 'gender', 'capital-gain',\n       'capital-loss', 'hours-per-week', 'income', 'occupation_?',\n       'occupation_Adm-clerical', 'occupation_Armed-Forces',\n       'occupation_Craft-repair', 'occupation_Exec-managerial',\n       'occupation_Farming-fishing', 'occupation_Handlers-cleaners',\n       'occupation_Machine-op-inspct', 'occupation_Other-service',\n       'occupation_Priv-house-serv', 'occupation_Prof-specialty',\n       'occupation_Protective-serv', 'occupation_Sales',\n       'occupation_Tech-support', 'occupation_Transport-moving', 'workclass_?',\n       'workclass_Federal-gov', 'workclass_Local-gov',\n       'workclass_Never-worked', 'workclass_Private', 'workclass_Self-emp-inc',\n       'workclass_Self-emp-not-inc', 'workclass_State-gov',\n       'workclass_Without-pay', 'marital-status_Divorced',\n       'marital-status_Married-AF-spouse', 'marital-status_Married-civ-spouse',\n       'marital-status_Married-spouse-absent', 'marital-status_Never-married',\n       'marital-status_Separated', 'marital-status_Widowed',\n       'relationship_Husband', 'relationship_Not-in-family',\n       'relationship_Other-relative', 'relationship_Own-child',\n       'relationship_Unmarried', 'relationship_Wife',\n       'race_Amer-Indian-Eskimo', 'race_Asian-Pac-Islander', 'race_Black',\n       'race_Other', 'race_White', 'native-country_?',\n       'native-country_Cambodia', 'native-country_Canada',\n       'native-country_China', 'native-country_Columbia',\n       'native-country_Cuba', 'native-country_Dominican-Republic',\n       'native-country_Ecuador', 'native-country_El-Salvador',\n       'native-country_England', 'native-country_France',\n       'native-country_Germany', 'native-country_Greece',\n       'native-country_Guatemala', 'native-country_Haiti',\n       'native-country_Holand-Netherlands', 'native-country_Honduras',\n       'native-country_Hong', 'native-country_Hungary', 'native-country_India',\n       'native-country_Iran', 'native-country_Ireland', 'native-country_Italy',\n       'native-country_Jamaica', 'native-country_Japan', 'native-country_Laos',\n       'native-country_Mexico', 'native-country_Nicaragua',\n       'native-country_Outlying-US(Guam-USVI-etc)', 'native-country_Peru',\n       'native-country_Philippines', 'native-country_Poland',\n       'native-country_Portugal', 'native-country_Puerto-Rico',\n       'native-country_Scotland', 'native-country_South',\n       'native-country_Taiwan', 'native-country_Thailand',\n       'native-country_Trinadad&Tobago', 'native-country_United-States',\n       'native-country_Vietnam', 'native-country_Yugoslavia'],\n      dtype='object')"
     },
     "execution_count": 11,
     "metadata": {},
     "output_type": "execute_result"
    }
   ],
   "source": [
    "df.columns"
   ]
  },
  {
   "cell_type": "code",
   "execution_count": 14,
   "outputs": [],
   "source": [
    "correlations = df.corr()['income'].abs()\n",
    "sorted_correlations = correlations.sort_values()\n",
    "num_cols_to_drop = int(0.8 * len(df.columns))\n",
    "cols_to_drop = sorted_correlations.iloc[:num_cols_to_drop].index\n",
    "df_dropped = df.drop(cols_to_drop, axis=1)"
   ],
   "metadata": {
    "collapsed": false,
    "ExecuteTime": {
     "end_time": "2023-10-18T08:52:08.140199Z",
     "start_time": "2023-10-18T08:52:07.445655Z"
    }
   },
   "id": "8aba2b566f90fd39"
  },
  {
   "cell_type": "code",
   "execution_count": 15,
   "id": "cf035714-3036-465d-98af-8f371e4d7111",
   "metadata": {
    "ExecuteTime": {
     "end_time": "2023-10-18T08:52:15.856327Z",
     "start_time": "2023-10-18T08:52:15.853969Z"
    }
   },
   "outputs": [
    {
     "data": {
      "text/plain": "       age  educational-num  gender  capital-gain  capital-loss  \\\n0       25                7       1             0             0   \n1       38                9       1             0             0   \n2       28               12       1             0             0   \n3       44               10       1          7688             0   \n4       18               10       0             0             0   \n...    ...              ...     ...           ...           ...   \n48837   27               12       0             0             0   \n48838   40                9       1             0             0   \n48839   58                9       0             0             0   \n48840   22                9       1             0             0   \n48841   52                9       0         15024             0   \n\n       hours-per-week  income  occupation_Exec-managerial  \\\n0                  40       0                           0   \n1                  50       0                           0   \n2                  40       1                           0   \n3                  40       1                           0   \n4                  30       0                           0   \n...               ...     ...                         ...   \n48837              38       0                           0   \n48838              40       1                           0   \n48839              40       0                           0   \n48840              20       0                           0   \n48841              40       1                           1   \n\n       occupation_Other-service  occupation_Prof-specialty  \\\n0                             0                          0   \n1                             0                          0   \n2                             0                          0   \n3                             0                          0   \n4                             0                          0   \n...                         ...                        ...   \n48837                         0                          0   \n48838                         0                          0   \n48839                         0                          0   \n48840                         0                          0   \n48841                         0                          0   \n\n       workclass_Self-emp-inc  marital-status_Divorced  \\\n0                           0                        0   \n1                           0                        0   \n2                           0                        0   \n3                           0                        0   \n4                           0                        0   \n...                       ...                      ...   \n48837                       0                        0   \n48838                       0                        0   \n48839                       0                        0   \n48840                       0                        0   \n48841                       1                        0   \n\n       marital-status_Married-civ-spouse  marital-status_Never-married  \\\n0                                      0                             1   \n1                                      1                             0   \n2                                      1                             0   \n3                                      1                             0   \n4                                      0                             1   \n...                                  ...                           ...   \n48837                                  1                             0   \n48838                                  1                             0   \n48839                                  0                             0   \n48840                                  0                             1   \n48841                                  1                             0   \n\n       relationship_Husband  relationship_Not-in-family  \\\n0                         0                           0   \n1                         1                           0   \n2                         1                           0   \n3                         1                           0   \n4                         0                           0   \n...                     ...                         ...   \n48837                     0                           0   \n48838                     1                           0   \n48839                     0                           0   \n48840                     0                           0   \n48841                     0                           0   \n\n       relationship_Own-child  relationship_Unmarried  relationship_Wife  \n0                           1                       0                  0  \n1                           0                       0                  0  \n2                           0                       0                  0  \n3                           0                       0                  0  \n4                           1                       0                  0  \n...                       ...                     ...                ...  \n48837                       0                       0                  1  \n48838                       0                       0                  0  \n48839                       0                       1                  0  \n48840                       1                       0                  0  \n48841                       0                       0                  1  \n\n[48842 rows x 19 columns]",
      "text/html": "<div>\n<style scoped>\n    .dataframe tbody tr th:only-of-type {\n        vertical-align: middle;\n    }\n\n    .dataframe tbody tr th {\n        vertical-align: top;\n    }\n\n    .dataframe thead th {\n        text-align: right;\n    }\n</style>\n<table border=\"1\" class=\"dataframe\">\n  <thead>\n    <tr style=\"text-align: right;\">\n      <th></th>\n      <th>age</th>\n      <th>educational-num</th>\n      <th>gender</th>\n      <th>capital-gain</th>\n      <th>capital-loss</th>\n      <th>hours-per-week</th>\n      <th>income</th>\n      <th>occupation_Exec-managerial</th>\n      <th>occupation_Other-service</th>\n      <th>occupation_Prof-specialty</th>\n      <th>workclass_Self-emp-inc</th>\n      <th>marital-status_Divorced</th>\n      <th>marital-status_Married-civ-spouse</th>\n      <th>marital-status_Never-married</th>\n      <th>relationship_Husband</th>\n      <th>relationship_Not-in-family</th>\n      <th>relationship_Own-child</th>\n      <th>relationship_Unmarried</th>\n      <th>relationship_Wife</th>\n    </tr>\n  </thead>\n  <tbody>\n    <tr>\n      <th>0</th>\n      <td>25</td>\n      <td>7</td>\n      <td>1</td>\n      <td>0</td>\n      <td>0</td>\n      <td>40</td>\n      <td>0</td>\n      <td>0</td>\n      <td>0</td>\n      <td>0</td>\n      <td>0</td>\n      <td>0</td>\n      <td>0</td>\n      <td>1</td>\n      <td>0</td>\n      <td>0</td>\n      <td>1</td>\n      <td>0</td>\n      <td>0</td>\n    </tr>\n    <tr>\n      <th>1</th>\n      <td>38</td>\n      <td>9</td>\n      <td>1</td>\n      <td>0</td>\n      <td>0</td>\n      <td>50</td>\n      <td>0</td>\n      <td>0</td>\n      <td>0</td>\n      <td>0</td>\n      <td>0</td>\n      <td>0</td>\n      <td>1</td>\n      <td>0</td>\n      <td>1</td>\n      <td>0</td>\n      <td>0</td>\n      <td>0</td>\n      <td>0</td>\n    </tr>\n    <tr>\n      <th>2</th>\n      <td>28</td>\n      <td>12</td>\n      <td>1</td>\n      <td>0</td>\n      <td>0</td>\n      <td>40</td>\n      <td>1</td>\n      <td>0</td>\n      <td>0</td>\n      <td>0</td>\n      <td>0</td>\n      <td>0</td>\n      <td>1</td>\n      <td>0</td>\n      <td>1</td>\n      <td>0</td>\n      <td>0</td>\n      <td>0</td>\n      <td>0</td>\n    </tr>\n    <tr>\n      <th>3</th>\n      <td>44</td>\n      <td>10</td>\n      <td>1</td>\n      <td>7688</td>\n      <td>0</td>\n      <td>40</td>\n      <td>1</td>\n      <td>0</td>\n      <td>0</td>\n      <td>0</td>\n      <td>0</td>\n      <td>0</td>\n      <td>1</td>\n      <td>0</td>\n      <td>1</td>\n      <td>0</td>\n      <td>0</td>\n      <td>0</td>\n      <td>0</td>\n    </tr>\n    <tr>\n      <th>4</th>\n      <td>18</td>\n      <td>10</td>\n      <td>0</td>\n      <td>0</td>\n      <td>0</td>\n      <td>30</td>\n      <td>0</td>\n      <td>0</td>\n      <td>0</td>\n      <td>0</td>\n      <td>0</td>\n      <td>0</td>\n      <td>0</td>\n      <td>1</td>\n      <td>0</td>\n      <td>0</td>\n      <td>1</td>\n      <td>0</td>\n      <td>0</td>\n    </tr>\n    <tr>\n      <th>...</th>\n      <td>...</td>\n      <td>...</td>\n      <td>...</td>\n      <td>...</td>\n      <td>...</td>\n      <td>...</td>\n      <td>...</td>\n      <td>...</td>\n      <td>...</td>\n      <td>...</td>\n      <td>...</td>\n      <td>...</td>\n      <td>...</td>\n      <td>...</td>\n      <td>...</td>\n      <td>...</td>\n      <td>...</td>\n      <td>...</td>\n      <td>...</td>\n    </tr>\n    <tr>\n      <th>48837</th>\n      <td>27</td>\n      <td>12</td>\n      <td>0</td>\n      <td>0</td>\n      <td>0</td>\n      <td>38</td>\n      <td>0</td>\n      <td>0</td>\n      <td>0</td>\n      <td>0</td>\n      <td>0</td>\n      <td>0</td>\n      <td>1</td>\n      <td>0</td>\n      <td>0</td>\n      <td>0</td>\n      <td>0</td>\n      <td>0</td>\n      <td>1</td>\n    </tr>\n    <tr>\n      <th>48838</th>\n      <td>40</td>\n      <td>9</td>\n      <td>1</td>\n      <td>0</td>\n      <td>0</td>\n      <td>40</td>\n      <td>1</td>\n      <td>0</td>\n      <td>0</td>\n      <td>0</td>\n      <td>0</td>\n      <td>0</td>\n      <td>1</td>\n      <td>0</td>\n      <td>1</td>\n      <td>0</td>\n      <td>0</td>\n      <td>0</td>\n      <td>0</td>\n    </tr>\n    <tr>\n      <th>48839</th>\n      <td>58</td>\n      <td>9</td>\n      <td>0</td>\n      <td>0</td>\n      <td>0</td>\n      <td>40</td>\n      <td>0</td>\n      <td>0</td>\n      <td>0</td>\n      <td>0</td>\n      <td>0</td>\n      <td>0</td>\n      <td>0</td>\n      <td>0</td>\n      <td>0</td>\n      <td>0</td>\n      <td>0</td>\n      <td>1</td>\n      <td>0</td>\n    </tr>\n    <tr>\n      <th>48840</th>\n      <td>22</td>\n      <td>9</td>\n      <td>1</td>\n      <td>0</td>\n      <td>0</td>\n      <td>20</td>\n      <td>0</td>\n      <td>0</td>\n      <td>0</td>\n      <td>0</td>\n      <td>0</td>\n      <td>0</td>\n      <td>0</td>\n      <td>1</td>\n      <td>0</td>\n      <td>0</td>\n      <td>1</td>\n      <td>0</td>\n      <td>0</td>\n    </tr>\n    <tr>\n      <th>48841</th>\n      <td>52</td>\n      <td>9</td>\n      <td>0</td>\n      <td>15024</td>\n      <td>0</td>\n      <td>40</td>\n      <td>1</td>\n      <td>1</td>\n      <td>0</td>\n      <td>0</td>\n      <td>1</td>\n      <td>0</td>\n      <td>1</td>\n      <td>0</td>\n      <td>0</td>\n      <td>0</td>\n      <td>0</td>\n      <td>0</td>\n      <td>1</td>\n    </tr>\n  </tbody>\n</table>\n<p>48842 rows × 19 columns</p>\n</div>"
     },
     "execution_count": 15,
     "metadata": {},
     "output_type": "execute_result"
    }
   ],
   "source": [
    "df_dropped"
   ]
  },
  {
   "cell_type": "code",
   "execution_count": 29,
   "outputs": [],
   "source": [
    "from sklearn.ensemble import  RandomForestClassifier\n",
    "from sklearn.model_selection import train_test_split\n",
    "\n",
    "df = df.drop('fnlwgt', axis=1)\n",
    "\n",
    "train_df, test_df = train_test_split(df, test_size=0.2)"
   ],
   "metadata": {
    "collapsed": false,
    "ExecuteTime": {
     "end_time": "2023-10-18T09:27:19.271699Z",
     "start_time": "2023-10-18T09:27:19.232638Z"
    }
   },
   "id": "d25c6194f3bad672"
  },
  {
   "cell_type": "code",
   "execution_count": 30,
   "outputs": [
    {
     "data": {
      "text/plain": "       age  educational-num  gender  capital-gain  capital-loss  \\\n29976   50               14       1         15024             0   \n48210   43                9       1             0             0   \n2308    23               10       1             0             0   \n553     51               10       1          8614             0   \n28240   59                7       1             0             0   \n...    ...              ...     ...           ...           ...   \n5733    45                9       1             0             0   \n1571    35               13       1             0             0   \n9999    75               11       0         15831             0   \n12315   25               10       0             0             0   \n9637    30                7       1             0             0   \n\n       hours-per-week  income  occupation_?  occupation_Adm-clerical  \\\n29976              40       1             0                        0   \n48210              30       0             0                        0   \n2308               40       0             0                        0   \n553                40       1             0                        1   \n28240              40       0             0                        0   \n...               ...     ...           ...                      ...   \n5733               40       1             0                        0   \n1571               40       0             0                        0   \n9999               50       1             0                        0   \n12315              65       0             0                        0   \n9637               40       0             0                        0   \n\n       occupation_Armed-Forces  ...  native-country_Portugal  \\\n29976                        0  ...                        0   \n48210                        0  ...                        0   \n2308                         0  ...                        0   \n553                          0  ...                        0   \n28240                        0  ...                        0   \n...                        ...  ...                      ...   \n5733                         0  ...                        0   \n1571                         0  ...                        0   \n9999                         0  ...                        0   \n12315                        0  ...                        0   \n9637                         0  ...                        0   \n\n       native-country_Puerto-Rico  native-country_Scotland  \\\n29976                           0                        0   \n48210                           0                        0   \n2308                            0                        0   \n553                             0                        0   \n28240                           0                        0   \n...                           ...                      ...   \n5733                            0                        0   \n1571                            0                        0   \n9999                            0                        0   \n12315                           0                        0   \n9637                            0                        0   \n\n       native-country_South  native-country_Taiwan  native-country_Thailand  \\\n29976                     0                      0                        0   \n48210                     0                      0                        0   \n2308                      0                      0                        0   \n553                       0                      0                        0   \n28240                     0                      0                        0   \n...                     ...                    ...                      ...   \n5733                      0                      0                        0   \n1571                      0                      0                        0   \n9999                      0                      0                        0   \n12315                     0                      0                        0   \n9637                      0                      0                        0   \n\n       native-country_Trinadad&Tobago  native-country_United-States  \\\n29976                               0                             1   \n48210                               0                             1   \n2308                                0                             1   \n553                                 0                             1   \n28240                               0                             1   \n...                               ...                           ...   \n5733                                0                             1   \n1571                                0                             1   \n9999                                0                             1   \n12315                               0                             1   \n9637                                0                             0   \n\n       native-country_Vietnam  native-country_Yugoslavia  \n29976                       0                          0  \n48210                       0                          0  \n2308                        0                          0  \n553                         0                          0  \n28240                       0                          0  \n...                       ...                        ...  \n5733                        0                          0  \n1571                        0                          0  \n9999                        0                          0  \n12315                       0                          0  \n9637                        0                          0  \n\n[39073 rows x 91 columns]",
      "text/html": "<div>\n<style scoped>\n    .dataframe tbody tr th:only-of-type {\n        vertical-align: middle;\n    }\n\n    .dataframe tbody tr th {\n        vertical-align: top;\n    }\n\n    .dataframe thead th {\n        text-align: right;\n    }\n</style>\n<table border=\"1\" class=\"dataframe\">\n  <thead>\n    <tr style=\"text-align: right;\">\n      <th></th>\n      <th>age</th>\n      <th>educational-num</th>\n      <th>gender</th>\n      <th>capital-gain</th>\n      <th>capital-loss</th>\n      <th>hours-per-week</th>\n      <th>income</th>\n      <th>occupation_?</th>\n      <th>occupation_Adm-clerical</th>\n      <th>occupation_Armed-Forces</th>\n      <th>...</th>\n      <th>native-country_Portugal</th>\n      <th>native-country_Puerto-Rico</th>\n      <th>native-country_Scotland</th>\n      <th>native-country_South</th>\n      <th>native-country_Taiwan</th>\n      <th>native-country_Thailand</th>\n      <th>native-country_Trinadad&amp;Tobago</th>\n      <th>native-country_United-States</th>\n      <th>native-country_Vietnam</th>\n      <th>native-country_Yugoslavia</th>\n    </tr>\n  </thead>\n  <tbody>\n    <tr>\n      <th>29976</th>\n      <td>50</td>\n      <td>14</td>\n      <td>1</td>\n      <td>15024</td>\n      <td>0</td>\n      <td>40</td>\n      <td>1</td>\n      <td>0</td>\n      <td>0</td>\n      <td>0</td>\n      <td>...</td>\n      <td>0</td>\n      <td>0</td>\n      <td>0</td>\n      <td>0</td>\n      <td>0</td>\n      <td>0</td>\n      <td>0</td>\n      <td>1</td>\n      <td>0</td>\n      <td>0</td>\n    </tr>\n    <tr>\n      <th>48210</th>\n      <td>43</td>\n      <td>9</td>\n      <td>1</td>\n      <td>0</td>\n      <td>0</td>\n      <td>30</td>\n      <td>0</td>\n      <td>0</td>\n      <td>0</td>\n      <td>0</td>\n      <td>...</td>\n      <td>0</td>\n      <td>0</td>\n      <td>0</td>\n      <td>0</td>\n      <td>0</td>\n      <td>0</td>\n      <td>0</td>\n      <td>1</td>\n      <td>0</td>\n      <td>0</td>\n    </tr>\n    <tr>\n      <th>2308</th>\n      <td>23</td>\n      <td>10</td>\n      <td>1</td>\n      <td>0</td>\n      <td>0</td>\n      <td>40</td>\n      <td>0</td>\n      <td>0</td>\n      <td>0</td>\n      <td>0</td>\n      <td>...</td>\n      <td>0</td>\n      <td>0</td>\n      <td>0</td>\n      <td>0</td>\n      <td>0</td>\n      <td>0</td>\n      <td>0</td>\n      <td>1</td>\n      <td>0</td>\n      <td>0</td>\n    </tr>\n    <tr>\n      <th>553</th>\n      <td>51</td>\n      <td>10</td>\n      <td>1</td>\n      <td>8614</td>\n      <td>0</td>\n      <td>40</td>\n      <td>1</td>\n      <td>0</td>\n      <td>1</td>\n      <td>0</td>\n      <td>...</td>\n      <td>0</td>\n      <td>0</td>\n      <td>0</td>\n      <td>0</td>\n      <td>0</td>\n      <td>0</td>\n      <td>0</td>\n      <td>1</td>\n      <td>0</td>\n      <td>0</td>\n    </tr>\n    <tr>\n      <th>28240</th>\n      <td>59</td>\n      <td>7</td>\n      <td>1</td>\n      <td>0</td>\n      <td>0</td>\n      <td>40</td>\n      <td>0</td>\n      <td>0</td>\n      <td>0</td>\n      <td>0</td>\n      <td>...</td>\n      <td>0</td>\n      <td>0</td>\n      <td>0</td>\n      <td>0</td>\n      <td>0</td>\n      <td>0</td>\n      <td>0</td>\n      <td>1</td>\n      <td>0</td>\n      <td>0</td>\n    </tr>\n    <tr>\n      <th>...</th>\n      <td>...</td>\n      <td>...</td>\n      <td>...</td>\n      <td>...</td>\n      <td>...</td>\n      <td>...</td>\n      <td>...</td>\n      <td>...</td>\n      <td>...</td>\n      <td>...</td>\n      <td>...</td>\n      <td>...</td>\n      <td>...</td>\n      <td>...</td>\n      <td>...</td>\n      <td>...</td>\n      <td>...</td>\n      <td>...</td>\n      <td>...</td>\n      <td>...</td>\n      <td>...</td>\n    </tr>\n    <tr>\n      <th>5733</th>\n      <td>45</td>\n      <td>9</td>\n      <td>1</td>\n      <td>0</td>\n      <td>0</td>\n      <td>40</td>\n      <td>1</td>\n      <td>0</td>\n      <td>0</td>\n      <td>0</td>\n      <td>...</td>\n      <td>0</td>\n      <td>0</td>\n      <td>0</td>\n      <td>0</td>\n      <td>0</td>\n      <td>0</td>\n      <td>0</td>\n      <td>1</td>\n      <td>0</td>\n      <td>0</td>\n    </tr>\n    <tr>\n      <th>1571</th>\n      <td>35</td>\n      <td>13</td>\n      <td>1</td>\n      <td>0</td>\n      <td>0</td>\n      <td>40</td>\n      <td>0</td>\n      <td>0</td>\n      <td>0</td>\n      <td>0</td>\n      <td>...</td>\n      <td>0</td>\n      <td>0</td>\n      <td>0</td>\n      <td>0</td>\n      <td>0</td>\n      <td>0</td>\n      <td>0</td>\n      <td>1</td>\n      <td>0</td>\n      <td>0</td>\n    </tr>\n    <tr>\n      <th>9999</th>\n      <td>75</td>\n      <td>11</td>\n      <td>0</td>\n      <td>15831</td>\n      <td>0</td>\n      <td>50</td>\n      <td>1</td>\n      <td>0</td>\n      <td>0</td>\n      <td>0</td>\n      <td>...</td>\n      <td>0</td>\n      <td>0</td>\n      <td>0</td>\n      <td>0</td>\n      <td>0</td>\n      <td>0</td>\n      <td>0</td>\n      <td>1</td>\n      <td>0</td>\n      <td>0</td>\n    </tr>\n    <tr>\n      <th>12315</th>\n      <td>25</td>\n      <td>10</td>\n      <td>0</td>\n      <td>0</td>\n      <td>0</td>\n      <td>65</td>\n      <td>0</td>\n      <td>0</td>\n      <td>0</td>\n      <td>0</td>\n      <td>...</td>\n      <td>0</td>\n      <td>0</td>\n      <td>0</td>\n      <td>0</td>\n      <td>0</td>\n      <td>0</td>\n      <td>0</td>\n      <td>1</td>\n      <td>0</td>\n      <td>0</td>\n    </tr>\n    <tr>\n      <th>9637</th>\n      <td>30</td>\n      <td>7</td>\n      <td>1</td>\n      <td>0</td>\n      <td>0</td>\n      <td>40</td>\n      <td>0</td>\n      <td>0</td>\n      <td>0</td>\n      <td>0</td>\n      <td>...</td>\n      <td>0</td>\n      <td>0</td>\n      <td>0</td>\n      <td>0</td>\n      <td>0</td>\n      <td>0</td>\n      <td>0</td>\n      <td>0</td>\n      <td>0</td>\n      <td>0</td>\n    </tr>\n  </tbody>\n</table>\n<p>39073 rows × 91 columns</p>\n</div>"
     },
     "execution_count": 30,
     "metadata": {},
     "output_type": "execute_result"
    }
   ],
   "source": [
    "train_df\n"
   ],
   "metadata": {
    "collapsed": false,
    "ExecuteTime": {
     "end_time": "2023-10-18T09:27:20.248099Z",
     "start_time": "2023-10-18T09:27:20.227912Z"
    }
   },
   "id": "615b1a02988d2970"
  },
  {
   "cell_type": "code",
   "execution_count": 31,
   "outputs": [],
   "source": [
    "train_X = train_df.drop('income', axis=1)\n",
    "train_Y = train_df['income']\n",
    "\n",
    "test_X = test_df.drop('income', axis=1)\n",
    "test_Y = test_df['income']"
   ],
   "metadata": {
    "collapsed": false,
    "ExecuteTime": {
     "end_time": "2023-10-18T09:27:20.831606Z",
     "start_time": "2023-10-18T09:27:20.825721Z"
    }
   },
   "id": "9a19a461da61586"
  },
  {
   "cell_type": "code",
   "execution_count": 32,
   "outputs": [
    {
     "data": {
      "text/plain": "RandomForestClassifier()",
      "text/html": "<style>#sk-container-id-2 {color: black;}#sk-container-id-2 pre{padding: 0;}#sk-container-id-2 div.sk-toggleable {background-color: white;}#sk-container-id-2 label.sk-toggleable__label {cursor: pointer;display: block;width: 100%;margin-bottom: 0;padding: 0.3em;box-sizing: border-box;text-align: center;}#sk-container-id-2 label.sk-toggleable__label-arrow:before {content: \"▸\";float: left;margin-right: 0.25em;color: #696969;}#sk-container-id-2 label.sk-toggleable__label-arrow:hover:before {color: black;}#sk-container-id-2 div.sk-estimator:hover label.sk-toggleable__label-arrow:before {color: black;}#sk-container-id-2 div.sk-toggleable__content {max-height: 0;max-width: 0;overflow: hidden;text-align: left;background-color: #f0f8ff;}#sk-container-id-2 div.sk-toggleable__content pre {margin: 0.2em;color: black;border-radius: 0.25em;background-color: #f0f8ff;}#sk-container-id-2 input.sk-toggleable__control:checked~div.sk-toggleable__content {max-height: 200px;max-width: 100%;overflow: auto;}#sk-container-id-2 input.sk-toggleable__control:checked~label.sk-toggleable__label-arrow:before {content: \"▾\";}#sk-container-id-2 div.sk-estimator input.sk-toggleable__control:checked~label.sk-toggleable__label {background-color: #d4ebff;}#sk-container-id-2 div.sk-label input.sk-toggleable__control:checked~label.sk-toggleable__label {background-color: #d4ebff;}#sk-container-id-2 input.sk-hidden--visually {border: 0;clip: rect(1px 1px 1px 1px);clip: rect(1px, 1px, 1px, 1px);height: 1px;margin: -1px;overflow: hidden;padding: 0;position: absolute;width: 1px;}#sk-container-id-2 div.sk-estimator {font-family: monospace;background-color: #f0f8ff;border: 1px dotted black;border-radius: 0.25em;box-sizing: border-box;margin-bottom: 0.5em;}#sk-container-id-2 div.sk-estimator:hover {background-color: #d4ebff;}#sk-container-id-2 div.sk-parallel-item::after {content: \"\";width: 100%;border-bottom: 1px solid gray;flex-grow: 1;}#sk-container-id-2 div.sk-label:hover label.sk-toggleable__label {background-color: #d4ebff;}#sk-container-id-2 div.sk-serial::before {content: \"\";position: absolute;border-left: 1px solid gray;box-sizing: border-box;top: 0;bottom: 0;left: 50%;z-index: 0;}#sk-container-id-2 div.sk-serial {display: flex;flex-direction: column;align-items: center;background-color: white;padding-right: 0.2em;padding-left: 0.2em;position: relative;}#sk-container-id-2 div.sk-item {position: relative;z-index: 1;}#sk-container-id-2 div.sk-parallel {display: flex;align-items: stretch;justify-content: center;background-color: white;position: relative;}#sk-container-id-2 div.sk-item::before, #sk-container-id-2 div.sk-parallel-item::before {content: \"\";position: absolute;border-left: 1px solid gray;box-sizing: border-box;top: 0;bottom: 0;left: 50%;z-index: -1;}#sk-container-id-2 div.sk-parallel-item {display: flex;flex-direction: column;z-index: 1;position: relative;background-color: white;}#sk-container-id-2 div.sk-parallel-item:first-child::after {align-self: flex-end;width: 50%;}#sk-container-id-2 div.sk-parallel-item:last-child::after {align-self: flex-start;width: 50%;}#sk-container-id-2 div.sk-parallel-item:only-child::after {width: 0;}#sk-container-id-2 div.sk-dashed-wrapped {border: 1px dashed gray;margin: 0 0.4em 0.5em 0.4em;box-sizing: border-box;padding-bottom: 0.4em;background-color: white;}#sk-container-id-2 div.sk-label label {font-family: monospace;font-weight: bold;display: inline-block;line-height: 1.2em;}#sk-container-id-2 div.sk-label-container {text-align: center;}#sk-container-id-2 div.sk-container {/* jupyter's `normalize.less` sets `[hidden] { display: none; }` but bootstrap.min.css set `[hidden] { display: none !important; }` so we also need the `!important` here to be able to override the default hidden behavior on the sphinx rendered scikit-learn.org. See: https://github.com/scikit-learn/scikit-learn/issues/21755 */display: inline-block !important;position: relative;}#sk-container-id-2 div.sk-text-repr-fallback {display: none;}</style><div id=\"sk-container-id-2\" class=\"sk-top-container\"><div class=\"sk-text-repr-fallback\"><pre>RandomForestClassifier()</pre><b>In a Jupyter environment, please rerun this cell to show the HTML representation or trust the notebook. <br />On GitHub, the HTML representation is unable to render, please try loading this page with nbviewer.org.</b></div><div class=\"sk-container\" hidden><div class=\"sk-item\"><div class=\"sk-estimator sk-toggleable\"><input class=\"sk-toggleable__control sk-hidden--visually\" id=\"sk-estimator-id-2\" type=\"checkbox\" checked><label for=\"sk-estimator-id-2\" class=\"sk-toggleable__label sk-toggleable__label-arrow\">RandomForestClassifier</label><div class=\"sk-toggleable__content\"><pre>RandomForestClassifier()</pre></div></div></div></div></div>"
     },
     "execution_count": 32,
     "metadata": {},
     "output_type": "execute_result"
    }
   ],
   "source": [
    "forest = RandomForestClassifier()\n",
    "\n",
    "forest.fit(train_X,train_Y)"
   ],
   "metadata": {
    "collapsed": false,
    "ExecuteTime": {
     "end_time": "2023-10-18T09:27:23.742243Z",
     "start_time": "2023-10-18T09:27:21.554492Z"
    }
   },
   "id": "360eff1b0cc110b7"
  },
  {
   "cell_type": "code",
   "execution_count": 33,
   "outputs": [
    {
     "data": {
      "text/plain": "0.8501381922407616"
     },
     "execution_count": 33,
     "metadata": {},
     "output_type": "execute_result"
    }
   ],
   "source": [
    "forest.score(test_X,test_Y)"
   ],
   "metadata": {
    "collapsed": false,
    "ExecuteTime": {
     "end_time": "2023-10-18T09:27:23.887224Z",
     "start_time": "2023-10-18T09:27:23.743562Z"
    }
   },
   "id": "da4710be5bd93f61"
  },
  {
   "cell_type": "code",
   "execution_count": 26,
   "outputs": [
    {
     "data": {
      "text/plain": "array([1.50572045e-01, 1.71348929e-01, 1.06489138e-01, 1.27725011e-02,\n       1.04479675e-01, 3.43330129e-02, 8.37966746e-02, 1.71304696e-03,\n       4.70721428e-03, 5.71599321e-05, 5.71486878e-03, 1.99649670e-02,\n       4.06378562e-03, 3.02780648e-03, 3.70346249e-03, 7.71309911e-03,\n       1.53032662e-04, 1.55717923e-02, 2.47830337e-03, 5.80118598e-03,\n       4.05244937e-03, 4.04123759e-03, 1.69452218e-03, 4.93758722e-03,\n       5.02888425e-03, 2.40188694e-06, 8.48797772e-03, 5.51625018e-03,\n       7.66569273e-03, 3.96503304e-03, 1.01598473e-04, 9.22718702e-03,\n       3.59113201e-04, 6.46016762e-02, 8.53605422e-04, 3.22753850e-02,\n       2.19379992e-03, 1.72188307e-03, 2.85386211e-02, 1.21556392e-02,\n       1.65028736e-03, 1.00017215e-02, 5.55835503e-03, 8.08724283e-03,\n       1.12042425e-03, 2.56710290e-03, 4.24433873e-03, 9.16678998e-04,\n       5.64276569e-03, 2.45721469e-03, 2.83990859e-04, 1.18520853e-03,\n       5.29822297e-04, 2.24556125e-04, 6.55514969e-04, 2.00562042e-04,\n       1.65991680e-04, 2.49212464e-04, 7.60406392e-04, 3.12960593e-04,\n       9.96410731e-04, 4.59459603e-04, 1.35077136e-04, 2.03679655e-04,\n       0.00000000e+00, 5.72992408e-06, 9.62650461e-05, 2.09456788e-04,\n       7.03443890e-04, 4.36529112e-04, 3.89335890e-04, 5.85570823e-04,\n       4.56584773e-04, 5.22532782e-04, 1.04847941e-04, 2.17583736e-03,\n       1.44246079e-04, 4.30601571e-05, 2.01624285e-04, 9.14098951e-04,\n       4.40700065e-04, 3.96288894e-04, 5.03443881e-04, 8.73162322e-05,\n       4.54660026e-04, 2.86362168e-04, 8.45315764e-05, 1.32754536e-04,\n       5.54195442e-03, 3.01364436e-04, 2.90230098e-04])"
     },
     "execution_count": 26,
     "metadata": {},
     "output_type": "execute_result"
    }
   ],
   "source": [
    "forest.feature_importances_"
   ],
   "metadata": {
    "collapsed": false,
    "ExecuteTime": {
     "end_time": "2023-10-18T09:24:09.301413Z",
     "start_time": "2023-10-18T09:24:09.276591Z"
    }
   },
   "id": "b2aa33d1c3859c8c"
  },
  {
   "cell_type": "code",
   "execution_count": 34,
   "outputs": [
    {
     "data": {
      "text/plain": "{'age': 0.22799003292763104,\n 'educational-num': 0.12729931781834344,\n 'gender': 0.01591977200419754,\n 'capital-gain': 0.10514237265230106,\n 'capital-loss': 0.03791302833212382,\n 'hours-per-week': 0.1148976797200802,\n 'occupation_?': 0.0021710515846263324,\n 'occupation_Adm-clerical': 0.005196901283784508,\n 'occupation_Armed-Forces': 9.371572704769979e-05,\n 'occupation_Craft-repair': 0.006060710767765212,\n 'occupation_Exec-managerial': 0.02042308701340475,\n 'occupation_Farming-fishing': 0.004765928928715439,\n 'occupation_Handlers-cleaners': 0.003307281558248043,\n 'occupation_Machine-op-inspct': 0.0042950015043433125,\n 'occupation_Other-service': 0.008015860652656876,\n 'occupation_Priv-house-serv': 0.00019635892885951314,\n 'occupation_Prof-specialty': 0.018463402314529698,\n 'occupation_Protective-serv': 0.002859660733150933,\n 'occupation_Sales': 0.006225740985938164,\n 'occupation_Tech-support': 0.004499648753669249,\n 'occupation_Transport-moving': 0.004359310566753433,\n 'workclass_?': 0.001829808479751444,\n 'workclass_Federal-gov': 0.005152074919000348,\n 'workclass_Local-gov': 0.005529871387601939,\n 'workclass_Never-worked': 1.5257282468385817e-06,\n 'workclass_Private': 0.009104862191124352,\n 'workclass_Self-emp-inc': 0.006801043505594826,\n 'workclass_Self-emp-not-inc': 0.007764555242211718,\n 'workclass_State-gov': 0.0042233375068744805,\n 'workclass_Without-pay': 8.979063713859001e-05,\n 'marital-status_Divorced': 0.005319356641456172,\n 'marital-status_Married-AF-spouse': 0.0003072523300460626,\n 'marital-status_Married-civ-spouse': 0.08183155967968166,\n 'marital-status_Married-spouse-absent': 0.0009654947225667039,\n 'marital-status_Never-married': 0.024616841258383797,\n 'marital-status_Separated': 0.0018599399047743172,\n 'marital-status_Widowed': 0.002000606924915029,\n 'relationship_Husband': 0.04417156696115579,\n 'relationship_Not-in-family': 0.010320455260164516,\n 'relationship_Other-relative': 0.001515273255083883,\n 'relationship_Own-child': 0.006131441450147237,\n 'relationship_Unmarried': 0.005131074254174773,\n 'relationship_Wife': 0.009857139407915086,\n 'race_Amer-Indian-Eskimo': 0.0013466635330809204,\n 'race_Asian-Pac-Islander': 0.0031372089867871826,\n 'race_Black': 0.005011486716648739,\n 'race_Other': 0.0010199520266749354,\n 'race_White': 0.0062834773024559,\n 'native-country_?': 0.0029396847728181226,\n 'native-country_Cambodia': 0.0003868583718359144,\n 'native-country_Canada': 0.00135303392374726,\n 'native-country_China': 0.0005480354106467535,\n 'native-country_Columbia': 0.0003516768974927198,\n 'native-country_Cuba': 0.000854901504035163,\n 'native-country_Dominican-Republic': 0.00023957409342904347,\n 'native-country_Ecuador': 0.00014460558938578629,\n 'native-country_El-Salvador': 0.0002668101627911356,\n 'native-country_England': 0.0008484553535584786,\n 'native-country_France': 0.0004247731832893108,\n 'native-country_Germany': 0.0011367103621766387,\n 'native-country_Greece': 0.0004108968577516255,\n 'native-country_Guatemala': 0.00014103414360592406,\n 'native-country_Haiti': 0.0002285855663567303,\n 'native-country_Holand-Netherlands': 2.2102479849920514e-08,\n 'native-country_Honduras': 4.098100276002405e-05,\n 'native-country_Hong': 0.0001751641767284466,\n 'native-country_Hungary': 0.0002322753622770509,\n 'native-country_India': 0.0010143562984179205,\n 'native-country_Iran': 0.000572090344346513,\n 'native-country_Ireland': 0.0004973674893468605,\n 'native-country_Italy': 0.0007411840852432701,\n 'native-country_Jamaica': 0.000513589202989201,\n 'native-country_Japan': 0.0005818387234225014,\n 'native-country_Laos': 6.783601298855249e-05,\n 'native-country_Mexico': 0.00253172272740884,\n 'native-country_Nicaragua': 0.000188284311734058,\n 'native-country_Outlying-US(Guam-USVI-etc)': 6.0081512972593374e-05,\n 'native-country_Peru': 0.0002281242495755416,\n 'native-country_Philippines': 0.0012112667552033065,\n 'native-country_Poland': 0.0006455105358302141,\n 'native-country_Portugal': 0.0004002125453902546,\n 'native-country_Puerto-Rico': 0.0006091661196900871,\n 'native-country_Scotland': 8.129899970073332e-05,\n 'native-country_South': 0.00047075970837607564,\n 'native-country_Taiwan': 0.0003214979053969459,\n 'native-country_Thailand': 8.686324543045215e-05,\n 'native-country_Trinadad&Tobago': 0.000146718918971236,\n 'native-country_United-States': 0.006219632005516167,\n 'native-country_Vietnam': 0.00035246983469201126,\n 'native-country_Yugoslavia': 0.000314524658363128}"
     },
     "execution_count": 34,
     "metadata": {},
     "output_type": "execute_result"
    }
   ],
   "source": [
    "dict(zip(forest.feature_names_in_, forest.feature_importances_))"
   ],
   "metadata": {
    "collapsed": false,
    "ExecuteTime": {
     "end_time": "2023-10-18T09:27:41.659892Z",
     "start_time": "2023-10-18T09:27:41.634209Z"
    }
   },
   "id": "f874bc898c447b12"
  },
  {
   "cell_type": "code",
   "execution_count": 36,
   "outputs": [],
   "source": [
    "from sklearn.model_selection import GridSearchCV\n",
    "\n",
    "param_grid = {\n",
    "    'n_estimators': [50,100,250],\n",
    "    'max_depth':[5,10,30,None],\n",
    "    'min_samples_split': [2,4],\n",
    "    'max_features': ['sqrt', 'log2']\n",
    "}\n",
    "\n",
    "grid_search = GridSearchCV(estimator=RandomForestClassifier(),\n",
    "                           param_grid=param_grid,verbose=10)"
   ],
   "metadata": {
    "collapsed": false,
    "ExecuteTime": {
     "end_time": "2023-10-18T09:31:37.873014Z",
     "start_time": "2023-10-18T09:31:37.871941Z"
    }
   },
   "id": "880bf0a8395ed5c6"
  },
  {
   "cell_type": "code",
   "execution_count": 37,
   "outputs": [
    {
     "name": "stdout",
     "output_type": "stream",
     "text": [
      "Fitting 5 folds for each of 48 candidates, totalling 240 fits\n",
      "[CV 1/5; 1/48] START max_depth=5, max_features=sqrt, min_samples_split=2, n_estimators=50\n",
      "[CV 1/5; 1/48] END max_depth=5, max_features=sqrt, min_samples_split=2, n_estimators=50;, score=0.839 total time=   0.3s\n",
      "[CV 2/5; 1/48] START max_depth=5, max_features=sqrt, min_samples_split=2, n_estimators=50\n",
      "[CV 2/5; 1/48] END max_depth=5, max_features=sqrt, min_samples_split=2, n_estimators=50;, score=0.839 total time=   0.2s\n",
      "[CV 3/5; 1/48] START max_depth=5, max_features=sqrt, min_samples_split=2, n_estimators=50\n",
      "[CV 3/5; 1/48] END max_depth=5, max_features=sqrt, min_samples_split=2, n_estimators=50;, score=0.838 total time=   0.2s\n",
      "[CV 4/5; 1/48] START max_depth=5, max_features=sqrt, min_samples_split=2, n_estimators=50\n",
      "[CV 4/5; 1/48] END max_depth=5, max_features=sqrt, min_samples_split=2, n_estimators=50;, score=0.837 total time=   0.2s\n",
      "[CV 5/5; 1/48] START max_depth=5, max_features=sqrt, min_samples_split=2, n_estimators=50\n",
      "[CV 5/5; 1/48] END max_depth=5, max_features=sqrt, min_samples_split=2, n_estimators=50;, score=0.833 total time=   0.2s\n",
      "[CV 1/5; 2/48] START max_depth=5, max_features=sqrt, min_samples_split=2, n_estimators=100\n",
      "[CV 1/5; 2/48] END max_depth=5, max_features=sqrt, min_samples_split=2, n_estimators=100;, score=0.840 total time=   0.5s\n",
      "[CV 2/5; 2/48] START max_depth=5, max_features=sqrt, min_samples_split=2, n_estimators=100\n",
      "[CV 2/5; 2/48] END max_depth=5, max_features=sqrt, min_samples_split=2, n_estimators=100;, score=0.837 total time=   0.5s\n",
      "[CV 3/5; 2/48] START max_depth=5, max_features=sqrt, min_samples_split=2, n_estimators=100\n",
      "[CV 3/5; 2/48] END max_depth=5, max_features=sqrt, min_samples_split=2, n_estimators=100;, score=0.838 total time=   0.5s\n",
      "[CV 4/5; 2/48] START max_depth=5, max_features=sqrt, min_samples_split=2, n_estimators=100\n",
      "[CV 4/5; 2/48] END max_depth=5, max_features=sqrt, min_samples_split=2, n_estimators=100;, score=0.842 total time=   0.5s\n",
      "[CV 5/5; 2/48] START max_depth=5, max_features=sqrt, min_samples_split=2, n_estimators=100\n",
      "[CV 5/5; 2/48] END max_depth=5, max_features=sqrt, min_samples_split=2, n_estimators=100;, score=0.838 total time=   0.5s\n",
      "[CV 1/5; 3/48] START max_depth=5, max_features=sqrt, min_samples_split=2, n_estimators=250\n",
      "[CV 1/5; 3/48] END max_depth=5, max_features=sqrt, min_samples_split=2, n_estimators=250;, score=0.841 total time=   1.1s\n",
      "[CV 2/5; 3/48] START max_depth=5, max_features=sqrt, min_samples_split=2, n_estimators=250\n",
      "[CV 2/5; 3/48] END max_depth=5, max_features=sqrt, min_samples_split=2, n_estimators=250;, score=0.834 total time=   1.2s\n",
      "[CV 3/5; 3/48] START max_depth=5, max_features=sqrt, min_samples_split=2, n_estimators=250\n",
      "[CV 3/5; 3/48] END max_depth=5, max_features=sqrt, min_samples_split=2, n_estimators=250;, score=0.832 total time=   1.2s\n",
      "[CV 4/5; 3/48] START max_depth=5, max_features=sqrt, min_samples_split=2, n_estimators=250\n",
      "[CV 4/5; 3/48] END max_depth=5, max_features=sqrt, min_samples_split=2, n_estimators=250;, score=0.837 total time=   1.2s\n",
      "[CV 5/5; 3/48] START max_depth=5, max_features=sqrt, min_samples_split=2, n_estimators=250\n",
      "[CV 5/5; 3/48] END max_depth=5, max_features=sqrt, min_samples_split=2, n_estimators=250;, score=0.841 total time=   1.2s\n",
      "[CV 1/5; 4/48] START max_depth=5, max_features=sqrt, min_samples_split=4, n_estimators=50\n",
      "[CV 1/5; 4/48] END max_depth=5, max_features=sqrt, min_samples_split=4, n_estimators=50;, score=0.833 total time=   0.2s\n",
      "[CV 2/5; 4/48] START max_depth=5, max_features=sqrt, min_samples_split=4, n_estimators=50\n",
      "[CV 2/5; 4/48] END max_depth=5, max_features=sqrt, min_samples_split=4, n_estimators=50;, score=0.838 total time=   0.2s\n",
      "[CV 3/5; 4/48] START max_depth=5, max_features=sqrt, min_samples_split=4, n_estimators=50\n",
      "[CV 3/5; 4/48] END max_depth=5, max_features=sqrt, min_samples_split=4, n_estimators=50;, score=0.831 total time=   0.2s\n",
      "[CV 4/5; 4/48] START max_depth=5, max_features=sqrt, min_samples_split=4, n_estimators=50\n",
      "[CV 4/5; 4/48] END max_depth=5, max_features=sqrt, min_samples_split=4, n_estimators=50;, score=0.842 total time=   0.2s\n",
      "[CV 5/5; 4/48] START max_depth=5, max_features=sqrt, min_samples_split=4, n_estimators=50\n",
      "[CV 5/5; 4/48] END max_depth=5, max_features=sqrt, min_samples_split=4, n_estimators=50;, score=0.839 total time=   0.2s\n",
      "[CV 1/5; 5/48] START max_depth=5, max_features=sqrt, min_samples_split=4, n_estimators=100\n",
      "[CV 1/5; 5/48] END max_depth=5, max_features=sqrt, min_samples_split=4, n_estimators=100;, score=0.842 total time=   0.5s\n",
      "[CV 2/5; 5/48] START max_depth=5, max_features=sqrt, min_samples_split=4, n_estimators=100\n",
      "[CV 2/5; 5/48] END max_depth=5, max_features=sqrt, min_samples_split=4, n_estimators=100;, score=0.836 total time=   0.5s\n",
      "[CV 3/5; 5/48] START max_depth=5, max_features=sqrt, min_samples_split=4, n_estimators=100\n",
      "[CV 3/5; 5/48] END max_depth=5, max_features=sqrt, min_samples_split=4, n_estimators=100;, score=0.839 total time=   0.5s\n",
      "[CV 4/5; 5/48] START max_depth=5, max_features=sqrt, min_samples_split=4, n_estimators=100\n",
      "[CV 4/5; 5/48] END max_depth=5, max_features=sqrt, min_samples_split=4, n_estimators=100;, score=0.836 total time=   0.5s\n",
      "[CV 5/5; 5/48] START max_depth=5, max_features=sqrt, min_samples_split=4, n_estimators=100\n",
      "[CV 5/5; 5/48] END max_depth=5, max_features=sqrt, min_samples_split=4, n_estimators=100;, score=0.837 total time=   0.5s\n",
      "[CV 1/5; 6/48] START max_depth=5, max_features=sqrt, min_samples_split=4, n_estimators=250\n",
      "[CV 1/5; 6/48] END max_depth=5, max_features=sqrt, min_samples_split=4, n_estimators=250;, score=0.844 total time=   1.2s\n",
      "[CV 2/5; 6/48] START max_depth=5, max_features=sqrt, min_samples_split=4, n_estimators=250\n",
      "[CV 2/5; 6/48] END max_depth=5, max_features=sqrt, min_samples_split=4, n_estimators=250;, score=0.838 total time=   1.2s\n",
      "[CV 3/5; 6/48] START max_depth=5, max_features=sqrt, min_samples_split=4, n_estimators=250\n",
      "[CV 3/5; 6/48] END max_depth=5, max_features=sqrt, min_samples_split=4, n_estimators=250;, score=0.837 total time=   1.2s\n",
      "[CV 4/5; 6/48] START max_depth=5, max_features=sqrt, min_samples_split=4, n_estimators=250\n",
      "[CV 4/5; 6/48] END max_depth=5, max_features=sqrt, min_samples_split=4, n_estimators=250;, score=0.838 total time=   1.2s\n",
      "[CV 5/5; 6/48] START max_depth=5, max_features=sqrt, min_samples_split=4, n_estimators=250\n",
      "[CV 5/5; 6/48] END max_depth=5, max_features=sqrt, min_samples_split=4, n_estimators=250;, score=0.839 total time=   1.2s\n",
      "[CV 1/5; 7/48] START max_depth=5, max_features=log2, min_samples_split=2, n_estimators=50\n",
      "[CV 1/5; 7/48] END max_depth=5, max_features=log2, min_samples_split=2, n_estimators=50;, score=0.820 total time=   0.2s\n",
      "[CV 2/5; 7/48] START max_depth=5, max_features=log2, min_samples_split=2, n_estimators=50\n",
      "[CV 2/5; 7/48] END max_depth=5, max_features=log2, min_samples_split=2, n_estimators=50;, score=0.816 total time=   0.2s\n",
      "[CV 3/5; 7/48] START max_depth=5, max_features=log2, min_samples_split=2, n_estimators=50\n",
      "[CV 3/5; 7/48] END max_depth=5, max_features=log2, min_samples_split=2, n_estimators=50;, score=0.817 total time=   0.2s\n",
      "[CV 4/5; 7/48] START max_depth=5, max_features=log2, min_samples_split=2, n_estimators=50\n",
      "[CV 4/5; 7/48] END max_depth=5, max_features=log2, min_samples_split=2, n_estimators=50;, score=0.821 total time=   0.2s\n",
      "[CV 5/5; 7/48] START max_depth=5, max_features=log2, min_samples_split=2, n_estimators=50\n",
      "[CV 5/5; 7/48] END max_depth=5, max_features=log2, min_samples_split=2, n_estimators=50;, score=0.806 total time=   0.2s\n",
      "[CV 1/5; 8/48] START max_depth=5, max_features=log2, min_samples_split=2, n_estimators=100\n",
      "[CV 1/5; 8/48] END max_depth=5, max_features=log2, min_samples_split=2, n_estimators=100;, score=0.822 total time=   0.4s\n",
      "[CV 2/5; 8/48] START max_depth=5, max_features=log2, min_samples_split=2, n_estimators=100\n",
      "[CV 2/5; 8/48] END max_depth=5, max_features=log2, min_samples_split=2, n_estimators=100;, score=0.814 total time=   0.4s\n",
      "[CV 3/5; 8/48] START max_depth=5, max_features=log2, min_samples_split=2, n_estimators=100\n",
      "[CV 3/5; 8/48] END max_depth=5, max_features=log2, min_samples_split=2, n_estimators=100;, score=0.819 total time=   0.4s\n",
      "[CV 4/5; 8/48] START max_depth=5, max_features=log2, min_samples_split=2, n_estimators=100\n",
      "[CV 4/5; 8/48] END max_depth=5, max_features=log2, min_samples_split=2, n_estimators=100;, score=0.818 total time=   0.4s\n",
      "[CV 5/5; 8/48] START max_depth=5, max_features=log2, min_samples_split=2, n_estimators=100\n",
      "[CV 5/5; 8/48] END max_depth=5, max_features=log2, min_samples_split=2, n_estimators=100;, score=0.810 total time=   0.4s\n",
      "[CV 1/5; 9/48] START max_depth=5, max_features=log2, min_samples_split=2, n_estimators=250\n",
      "[CV 1/5; 9/48] END max_depth=5, max_features=log2, min_samples_split=2, n_estimators=250;, score=0.822 total time=   1.0s\n",
      "[CV 2/5; 9/48] START max_depth=5, max_features=log2, min_samples_split=2, n_estimators=250\n",
      "[CV 2/5; 9/48] END max_depth=5, max_features=log2, min_samples_split=2, n_estimators=250;, score=0.816 total time=   0.9s\n",
      "[CV 3/5; 9/48] START max_depth=5, max_features=log2, min_samples_split=2, n_estimators=250\n",
      "[CV 3/5; 9/48] END max_depth=5, max_features=log2, min_samples_split=2, n_estimators=250;, score=0.819 total time=   1.0s\n",
      "[CV 4/5; 9/48] START max_depth=5, max_features=log2, min_samples_split=2, n_estimators=250\n",
      "[CV 4/5; 9/48] END max_depth=5, max_features=log2, min_samples_split=2, n_estimators=250;, score=0.811 total time=   1.0s\n",
      "[CV 5/5; 9/48] START max_depth=5, max_features=log2, min_samples_split=2, n_estimators=250\n",
      "[CV 5/5; 9/48] END max_depth=5, max_features=log2, min_samples_split=2, n_estimators=250;, score=0.819 total time=   1.0s\n",
      "[CV 1/5; 10/48] START max_depth=5, max_features=log2, min_samples_split=4, n_estimators=50\n",
      "[CV 1/5; 10/48] END max_depth=5, max_features=log2, min_samples_split=4, n_estimators=50;, score=0.820 total time=   0.2s\n",
      "[CV 2/5; 10/48] START max_depth=5, max_features=log2, min_samples_split=4, n_estimators=50\n",
      "[CV 2/5; 10/48] END max_depth=5, max_features=log2, min_samples_split=4, n_estimators=50;, score=0.821 total time=   0.2s\n",
      "[CV 3/5; 10/48] START max_depth=5, max_features=log2, min_samples_split=4, n_estimators=50\n",
      "[CV 3/5; 10/48] END max_depth=5, max_features=log2, min_samples_split=4, n_estimators=50;, score=0.817 total time=   0.2s\n",
      "[CV 4/5; 10/48] START max_depth=5, max_features=log2, min_samples_split=4, n_estimators=50\n",
      "[CV 4/5; 10/48] END max_depth=5, max_features=log2, min_samples_split=4, n_estimators=50;, score=0.809 total time=   0.2s\n",
      "[CV 5/5; 10/48] START max_depth=5, max_features=log2, min_samples_split=4, n_estimators=50\n",
      "[CV 5/5; 10/48] END max_depth=5, max_features=log2, min_samples_split=4, n_estimators=50;, score=0.794 total time=   0.2s\n",
      "[CV 1/5; 11/48] START max_depth=5, max_features=log2, min_samples_split=4, n_estimators=100\n",
      "[CV 1/5; 11/48] END max_depth=5, max_features=log2, min_samples_split=4, n_estimators=100;, score=0.814 total time=   0.4s\n",
      "[CV 2/5; 11/48] START max_depth=5, max_features=log2, min_samples_split=4, n_estimators=100\n",
      "[CV 2/5; 11/48] END max_depth=5, max_features=log2, min_samples_split=4, n_estimators=100;, score=0.819 total time=   0.4s\n",
      "[CV 3/5; 11/48] START max_depth=5, max_features=log2, min_samples_split=4, n_estimators=100\n",
      "[CV 3/5; 11/48] END max_depth=5, max_features=log2, min_samples_split=4, n_estimators=100;, score=0.813 total time=   0.4s\n",
      "[CV 4/5; 11/48] START max_depth=5, max_features=log2, min_samples_split=4, n_estimators=100\n",
      "[CV 4/5; 11/48] END max_depth=5, max_features=log2, min_samples_split=4, n_estimators=100;, score=0.808 total time=   0.4s\n",
      "[CV 5/5; 11/48] START max_depth=5, max_features=log2, min_samples_split=4, n_estimators=100\n",
      "[CV 5/5; 11/48] END max_depth=5, max_features=log2, min_samples_split=4, n_estimators=100;, score=0.821 total time=   0.4s\n",
      "[CV 1/5; 12/48] START max_depth=5, max_features=log2, min_samples_split=4, n_estimators=250\n",
      "[CV 1/5; 12/48] END max_depth=5, max_features=log2, min_samples_split=4, n_estimators=250;, score=0.821 total time=   1.0s\n",
      "[CV 2/5; 12/48] START max_depth=5, max_features=log2, min_samples_split=4, n_estimators=250\n",
      "[CV 2/5; 12/48] END max_depth=5, max_features=log2, min_samples_split=4, n_estimators=250;, score=0.820 total time=   0.9s\n",
      "[CV 3/5; 12/48] START max_depth=5, max_features=log2, min_samples_split=4, n_estimators=250\n",
      "[CV 3/5; 12/48] END max_depth=5, max_features=log2, min_samples_split=4, n_estimators=250;, score=0.819 total time=   1.0s\n",
      "[CV 4/5; 12/48] START max_depth=5, max_features=log2, min_samples_split=4, n_estimators=250\n",
      "[CV 4/5; 12/48] END max_depth=5, max_features=log2, min_samples_split=4, n_estimators=250;, score=0.817 total time=   1.0s\n",
      "[CV 5/5; 12/48] START max_depth=5, max_features=log2, min_samples_split=4, n_estimators=250\n",
      "[CV 5/5; 12/48] END max_depth=5, max_features=log2, min_samples_split=4, n_estimators=250;, score=0.809 total time=   1.0s\n",
      "[CV 1/5; 13/48] START max_depth=10, max_features=sqrt, min_samples_split=2, n_estimators=50\n",
      "[CV 1/5; 13/48] END max_depth=10, max_features=sqrt, min_samples_split=2, n_estimators=50;, score=0.863 total time=   0.4s\n",
      "[CV 2/5; 13/48] START max_depth=10, max_features=sqrt, min_samples_split=2, n_estimators=50\n",
      "[CV 2/5; 13/48] END max_depth=10, max_features=sqrt, min_samples_split=2, n_estimators=50;, score=0.857 total time=   0.4s\n",
      "[CV 3/5; 13/48] START max_depth=10, max_features=sqrt, min_samples_split=2, n_estimators=50\n",
      "[CV 3/5; 13/48] END max_depth=10, max_features=sqrt, min_samples_split=2, n_estimators=50;, score=0.857 total time=   0.4s\n",
      "[CV 4/5; 13/48] START max_depth=10, max_features=sqrt, min_samples_split=2, n_estimators=50\n",
      "[CV 4/5; 13/48] END max_depth=10, max_features=sqrt, min_samples_split=2, n_estimators=50;, score=0.860 total time=   0.4s\n",
      "[CV 5/5; 13/48] START max_depth=10, max_features=sqrt, min_samples_split=2, n_estimators=50\n",
      "[CV 5/5; 13/48] END max_depth=10, max_features=sqrt, min_samples_split=2, n_estimators=50;, score=0.862 total time=   0.4s\n",
      "[CV 1/5; 14/48] START max_depth=10, max_features=sqrt, min_samples_split=2, n_estimators=100\n",
      "[CV 1/5; 14/48] END max_depth=10, max_features=sqrt, min_samples_split=2, n_estimators=100;, score=0.864 total time=   0.8s\n",
      "[CV 2/5; 14/48] START max_depth=10, max_features=sqrt, min_samples_split=2, n_estimators=100\n",
      "[CV 2/5; 14/48] END max_depth=10, max_features=sqrt, min_samples_split=2, n_estimators=100;, score=0.859 total time=   0.7s\n",
      "[CV 3/5; 14/48] START max_depth=10, max_features=sqrt, min_samples_split=2, n_estimators=100\n",
      "[CV 3/5; 14/48] END max_depth=10, max_features=sqrt, min_samples_split=2, n_estimators=100;, score=0.857 total time=   0.8s\n",
      "[CV 4/5; 14/48] START max_depth=10, max_features=sqrt, min_samples_split=2, n_estimators=100\n",
      "[CV 4/5; 14/48] END max_depth=10, max_features=sqrt, min_samples_split=2, n_estimators=100;, score=0.858 total time=   0.8s\n",
      "[CV 5/5; 14/48] START max_depth=10, max_features=sqrt, min_samples_split=2, n_estimators=100\n",
      "[CV 5/5; 14/48] END max_depth=10, max_features=sqrt, min_samples_split=2, n_estimators=100;, score=0.859 total time=   0.7s\n",
      "[CV 1/5; 15/48] START max_depth=10, max_features=sqrt, min_samples_split=2, n_estimators=250\n",
      "[CV 1/5; 15/48] END max_depth=10, max_features=sqrt, min_samples_split=2, n_estimators=250;, score=0.863 total time=   1.9s\n",
      "[CV 2/5; 15/48] START max_depth=10, max_features=sqrt, min_samples_split=2, n_estimators=250\n",
      "[CV 2/5; 15/48] END max_depth=10, max_features=sqrt, min_samples_split=2, n_estimators=250;, score=0.857 total time=   1.9s\n",
      "[CV 3/5; 15/48] START max_depth=10, max_features=sqrt, min_samples_split=2, n_estimators=250\n",
      "[CV 3/5; 15/48] END max_depth=10, max_features=sqrt, min_samples_split=2, n_estimators=250;, score=0.858 total time=   1.9s\n",
      "[CV 4/5; 15/48] START max_depth=10, max_features=sqrt, min_samples_split=2, n_estimators=250\n",
      "[CV 4/5; 15/48] END max_depth=10, max_features=sqrt, min_samples_split=2, n_estimators=250;, score=0.858 total time=   1.9s\n",
      "[CV 5/5; 15/48] START max_depth=10, max_features=sqrt, min_samples_split=2, n_estimators=250\n",
      "[CV 5/5; 15/48] END max_depth=10, max_features=sqrt, min_samples_split=2, n_estimators=250;, score=0.861 total time=   1.9s\n",
      "[CV 1/5; 16/48] START max_depth=10, max_features=sqrt, min_samples_split=4, n_estimators=50\n",
      "[CV 1/5; 16/48] END max_depth=10, max_features=sqrt, min_samples_split=4, n_estimators=50;, score=0.863 total time=   0.4s\n",
      "[CV 2/5; 16/48] START max_depth=10, max_features=sqrt, min_samples_split=4, n_estimators=50\n",
      "[CV 2/5; 16/48] END max_depth=10, max_features=sqrt, min_samples_split=4, n_estimators=50;, score=0.857 total time=   0.4s\n",
      "[CV 3/5; 16/48] START max_depth=10, max_features=sqrt, min_samples_split=4, n_estimators=50\n",
      "[CV 3/5; 16/48] END max_depth=10, max_features=sqrt, min_samples_split=4, n_estimators=50;, score=0.858 total time=   0.4s\n",
      "[CV 4/5; 16/48] START max_depth=10, max_features=sqrt, min_samples_split=4, n_estimators=50\n",
      "[CV 4/5; 16/48] END max_depth=10, max_features=sqrt, min_samples_split=4, n_estimators=50;, score=0.860 total time=   0.4s\n",
      "[CV 5/5; 16/48] START max_depth=10, max_features=sqrt, min_samples_split=4, n_estimators=50\n",
      "[CV 5/5; 16/48] END max_depth=10, max_features=sqrt, min_samples_split=4, n_estimators=50;, score=0.860 total time=   0.4s\n",
      "[CV 1/5; 17/48] START max_depth=10, max_features=sqrt, min_samples_split=4, n_estimators=100\n",
      "[CV 1/5; 17/48] END max_depth=10, max_features=sqrt, min_samples_split=4, n_estimators=100;, score=0.863 total time=   0.8s\n",
      "[CV 2/5; 17/48] START max_depth=10, max_features=sqrt, min_samples_split=4, n_estimators=100\n",
      "[CV 2/5; 17/48] END max_depth=10, max_features=sqrt, min_samples_split=4, n_estimators=100;, score=0.858 total time=   0.8s\n",
      "[CV 3/5; 17/48] START max_depth=10, max_features=sqrt, min_samples_split=4, n_estimators=100\n",
      "[CV 3/5; 17/48] END max_depth=10, max_features=sqrt, min_samples_split=4, n_estimators=100;, score=0.857 total time=   0.8s\n",
      "[CV 4/5; 17/48] START max_depth=10, max_features=sqrt, min_samples_split=4, n_estimators=100\n",
      "[CV 4/5; 17/48] END max_depth=10, max_features=sqrt, min_samples_split=4, n_estimators=100;, score=0.857 total time=   0.8s\n",
      "[CV 5/5; 17/48] START max_depth=10, max_features=sqrt, min_samples_split=4, n_estimators=100\n",
      "[CV 5/5; 17/48] END max_depth=10, max_features=sqrt, min_samples_split=4, n_estimators=100;, score=0.860 total time=   0.8s\n",
      "[CV 1/5; 18/48] START max_depth=10, max_features=sqrt, min_samples_split=4, n_estimators=250\n",
      "[CV 1/5; 18/48] END max_depth=10, max_features=sqrt, min_samples_split=4, n_estimators=250;, score=0.864 total time=   1.9s\n",
      "[CV 2/5; 18/48] START max_depth=10, max_features=sqrt, min_samples_split=4, n_estimators=250\n",
      "[CV 2/5; 18/48] END max_depth=10, max_features=sqrt, min_samples_split=4, n_estimators=250;, score=0.858 total time=   1.9s\n",
      "[CV 3/5; 18/48] START max_depth=10, max_features=sqrt, min_samples_split=4, n_estimators=250\n",
      "[CV 3/5; 18/48] END max_depth=10, max_features=sqrt, min_samples_split=4, n_estimators=250;, score=0.858 total time=   1.9s\n",
      "[CV 4/5; 18/48] START max_depth=10, max_features=sqrt, min_samples_split=4, n_estimators=250\n",
      "[CV 4/5; 18/48] END max_depth=10, max_features=sqrt, min_samples_split=4, n_estimators=250;, score=0.858 total time=   1.9s\n",
      "[CV 5/5; 18/48] START max_depth=10, max_features=sqrt, min_samples_split=4, n_estimators=250\n",
      "[CV 5/5; 18/48] END max_depth=10, max_features=sqrt, min_samples_split=4, n_estimators=250;, score=0.861 total time=   1.9s\n",
      "[CV 1/5; 19/48] START max_depth=10, max_features=log2, min_samples_split=2, n_estimators=50\n",
      "[CV 1/5; 19/48] END max_depth=10, max_features=log2, min_samples_split=2, n_estimators=50;, score=0.853 total time=   0.3s\n",
      "[CV 2/5; 19/48] START max_depth=10, max_features=log2, min_samples_split=2, n_estimators=50\n",
      "[CV 2/5; 19/48] END max_depth=10, max_features=log2, min_samples_split=2, n_estimators=50;, score=0.847 total time=   0.3s\n",
      "[CV 3/5; 19/48] START max_depth=10, max_features=log2, min_samples_split=2, n_estimators=50\n",
      "[CV 3/5; 19/48] END max_depth=10, max_features=log2, min_samples_split=2, n_estimators=50;, score=0.852 total time=   0.3s\n",
      "[CV 4/5; 19/48] START max_depth=10, max_features=log2, min_samples_split=2, n_estimators=50\n",
      "[CV 4/5; 19/48] END max_depth=10, max_features=log2, min_samples_split=2, n_estimators=50;, score=0.855 total time=   0.3s\n",
      "[CV 5/5; 19/48] START max_depth=10, max_features=log2, min_samples_split=2, n_estimators=50\n",
      "[CV 5/5; 19/48] END max_depth=10, max_features=log2, min_samples_split=2, n_estimators=50;, score=0.856 total time=   0.3s\n",
      "[CV 1/5; 20/48] START max_depth=10, max_features=log2, min_samples_split=2, n_estimators=100\n",
      "[CV 1/5; 20/48] END max_depth=10, max_features=log2, min_samples_split=2, n_estimators=100;, score=0.858 total time=   0.6s\n",
      "[CV 2/5; 20/48] START max_depth=10, max_features=log2, min_samples_split=2, n_estimators=100\n",
      "[CV 2/5; 20/48] END max_depth=10, max_features=log2, min_samples_split=2, n_estimators=100;, score=0.851 total time=   0.6s\n",
      "[CV 3/5; 20/48] START max_depth=10, max_features=log2, min_samples_split=2, n_estimators=100\n",
      "[CV 3/5; 20/48] END max_depth=10, max_features=log2, min_samples_split=2, n_estimators=100;, score=0.851 total time=   0.6s\n",
      "[CV 4/5; 20/48] START max_depth=10, max_features=log2, min_samples_split=2, n_estimators=100\n",
      "[CV 4/5; 20/48] END max_depth=10, max_features=log2, min_samples_split=2, n_estimators=100;, score=0.852 total time=   0.6s\n",
      "[CV 5/5; 20/48] START max_depth=10, max_features=log2, min_samples_split=2, n_estimators=100\n",
      "[CV 5/5; 20/48] END max_depth=10, max_features=log2, min_samples_split=2, n_estimators=100;, score=0.854 total time=   0.6s\n",
      "[CV 1/5; 21/48] START max_depth=10, max_features=log2, min_samples_split=2, n_estimators=250\n",
      "[CV 1/5; 21/48] END max_depth=10, max_features=log2, min_samples_split=2, n_estimators=250;, score=0.861 total time=   1.6s\n",
      "[CV 2/5; 21/48] START max_depth=10, max_features=log2, min_samples_split=2, n_estimators=250\n",
      "[CV 2/5; 21/48] END max_depth=10, max_features=log2, min_samples_split=2, n_estimators=250;, score=0.855 total time=   1.6s\n",
      "[CV 3/5; 21/48] START max_depth=10, max_features=log2, min_samples_split=2, n_estimators=250\n",
      "[CV 3/5; 21/48] END max_depth=10, max_features=log2, min_samples_split=2, n_estimators=250;, score=0.853 total time=   1.6s\n",
      "[CV 4/5; 21/48] START max_depth=10, max_features=log2, min_samples_split=2, n_estimators=250\n",
      "[CV 4/5; 21/48] END max_depth=10, max_features=log2, min_samples_split=2, n_estimators=250;, score=0.854 total time=   1.5s\n",
      "[CV 5/5; 21/48] START max_depth=10, max_features=log2, min_samples_split=2, n_estimators=250\n",
      "[CV 5/5; 21/48] END max_depth=10, max_features=log2, min_samples_split=2, n_estimators=250;, score=0.856 total time=   1.5s\n",
      "[CV 1/5; 22/48] START max_depth=10, max_features=log2, min_samples_split=4, n_estimators=50\n",
      "[CV 1/5; 22/48] END max_depth=10, max_features=log2, min_samples_split=4, n_estimators=50;, score=0.856 total time=   0.3s\n",
      "[CV 2/5; 22/48] START max_depth=10, max_features=log2, min_samples_split=4, n_estimators=50\n",
      "[CV 2/5; 22/48] END max_depth=10, max_features=log2, min_samples_split=4, n_estimators=50;, score=0.855 total time=   0.3s\n",
      "[CV 3/5; 22/48] START max_depth=10, max_features=log2, min_samples_split=4, n_estimators=50\n",
      "[CV 3/5; 22/48] END max_depth=10, max_features=log2, min_samples_split=4, n_estimators=50;, score=0.855 total time=   0.3s\n",
      "[CV 4/5; 22/48] START max_depth=10, max_features=log2, min_samples_split=4, n_estimators=50\n",
      "[CV 4/5; 22/48] END max_depth=10, max_features=log2, min_samples_split=4, n_estimators=50;, score=0.854 total time=   0.3s\n",
      "[CV 5/5; 22/48] START max_depth=10, max_features=log2, min_samples_split=4, n_estimators=50\n",
      "[CV 5/5; 22/48] END max_depth=10, max_features=log2, min_samples_split=4, n_estimators=50;, score=0.857 total time=   0.3s\n",
      "[CV 1/5; 23/48] START max_depth=10, max_features=log2, min_samples_split=4, n_estimators=100\n",
      "[CV 1/5; 23/48] END max_depth=10, max_features=log2, min_samples_split=4, n_estimators=100;, score=0.858 total time=   0.6s\n",
      "[CV 2/5; 23/48] START max_depth=10, max_features=log2, min_samples_split=4, n_estimators=100\n",
      "[CV 2/5; 23/48] END max_depth=10, max_features=log2, min_samples_split=4, n_estimators=100;, score=0.853 total time=   0.6s\n",
      "[CV 3/5; 23/48] START max_depth=10, max_features=log2, min_samples_split=4, n_estimators=100\n",
      "[CV 3/5; 23/48] END max_depth=10, max_features=log2, min_samples_split=4, n_estimators=100;, score=0.852 total time=   0.6s\n",
      "[CV 4/5; 23/48] START max_depth=10, max_features=log2, min_samples_split=4, n_estimators=100\n",
      "[CV 4/5; 23/48] END max_depth=10, max_features=log2, min_samples_split=4, n_estimators=100;, score=0.852 total time=   0.6s\n",
      "[CV 5/5; 23/48] START max_depth=10, max_features=log2, min_samples_split=4, n_estimators=100\n",
      "[CV 5/5; 23/48] END max_depth=10, max_features=log2, min_samples_split=4, n_estimators=100;, score=0.856 total time=   0.6s\n",
      "[CV 1/5; 24/48] START max_depth=10, max_features=log2, min_samples_split=4, n_estimators=250\n",
      "[CV 1/5; 24/48] END max_depth=10, max_features=log2, min_samples_split=4, n_estimators=250;, score=0.860 total time=   1.5s\n",
      "[CV 2/5; 24/48] START max_depth=10, max_features=log2, min_samples_split=4, n_estimators=250\n",
      "[CV 2/5; 24/48] END max_depth=10, max_features=log2, min_samples_split=4, n_estimators=250;, score=0.855 total time=   1.5s\n",
      "[CV 3/5; 24/48] START max_depth=10, max_features=log2, min_samples_split=4, n_estimators=250\n",
      "[CV 3/5; 24/48] END max_depth=10, max_features=log2, min_samples_split=4, n_estimators=250;, score=0.852 total time=   1.5s\n",
      "[CV 4/5; 24/48] START max_depth=10, max_features=log2, min_samples_split=4, n_estimators=250\n",
      "[CV 4/5; 24/48] END max_depth=10, max_features=log2, min_samples_split=4, n_estimators=250;, score=0.853 total time=   1.5s\n",
      "[CV 5/5; 24/48] START max_depth=10, max_features=log2, min_samples_split=4, n_estimators=250\n",
      "[CV 5/5; 24/48] END max_depth=10, max_features=log2, min_samples_split=4, n_estimators=250;, score=0.857 total time=   1.5s\n",
      "[CV 1/5; 25/48] START max_depth=30, max_features=sqrt, min_samples_split=2, n_estimators=50\n",
      "[CV 1/5; 25/48] END max_depth=30, max_features=sqrt, min_samples_split=2, n_estimators=50;, score=0.858 total time=   0.8s\n",
      "[CV 2/5; 25/48] START max_depth=30, max_features=sqrt, min_samples_split=2, n_estimators=50\n",
      "[CV 2/5; 25/48] END max_depth=30, max_features=sqrt, min_samples_split=2, n_estimators=50;, score=0.854 total time=   0.8s\n",
      "[CV 3/5; 25/48] START max_depth=30, max_features=sqrt, min_samples_split=2, n_estimators=50\n",
      "[CV 3/5; 25/48] END max_depth=30, max_features=sqrt, min_samples_split=2, n_estimators=50;, score=0.853 total time=   0.8s\n",
      "[CV 4/5; 25/48] START max_depth=30, max_features=sqrt, min_samples_split=2, n_estimators=50\n",
      "[CV 4/5; 25/48] END max_depth=30, max_features=sqrt, min_samples_split=2, n_estimators=50;, score=0.862 total time=   0.8s\n",
      "[CV 5/5; 25/48] START max_depth=30, max_features=sqrt, min_samples_split=2, n_estimators=50\n",
      "[CV 5/5; 25/48] END max_depth=30, max_features=sqrt, min_samples_split=2, n_estimators=50;, score=0.854 total time=   0.8s\n",
      "[CV 1/5; 26/48] START max_depth=30, max_features=sqrt, min_samples_split=2, n_estimators=100\n",
      "[CV 1/5; 26/48] END max_depth=30, max_features=sqrt, min_samples_split=2, n_estimators=100;, score=0.859 total time=   1.5s\n",
      "[CV 2/5; 26/48] START max_depth=30, max_features=sqrt, min_samples_split=2, n_estimators=100\n",
      "[CV 2/5; 26/48] END max_depth=30, max_features=sqrt, min_samples_split=2, n_estimators=100;, score=0.854 total time=   1.5s\n",
      "[CV 3/5; 26/48] START max_depth=30, max_features=sqrt, min_samples_split=2, n_estimators=100\n",
      "[CV 3/5; 26/48] END max_depth=30, max_features=sqrt, min_samples_split=2, n_estimators=100;, score=0.856 total time=   1.5s\n",
      "[CV 4/5; 26/48] START max_depth=30, max_features=sqrt, min_samples_split=2, n_estimators=100\n",
      "[CV 4/5; 26/48] END max_depth=30, max_features=sqrt, min_samples_split=2, n_estimators=100;, score=0.861 total time=   1.5s\n",
      "[CV 5/5; 26/48] START max_depth=30, max_features=sqrt, min_samples_split=2, n_estimators=100\n",
      "[CV 5/5; 26/48] END max_depth=30, max_features=sqrt, min_samples_split=2, n_estimators=100;, score=0.858 total time=   1.5s\n",
      "[CV 1/5; 27/48] START max_depth=30, max_features=sqrt, min_samples_split=2, n_estimators=250\n",
      "[CV 1/5; 27/48] END max_depth=30, max_features=sqrt, min_samples_split=2, n_estimators=250;, score=0.860 total time=   3.7s\n",
      "[CV 2/5; 27/48] START max_depth=30, max_features=sqrt, min_samples_split=2, n_estimators=250\n",
      "[CV 2/5; 27/48] END max_depth=30, max_features=sqrt, min_samples_split=2, n_estimators=250;, score=0.853 total time=   3.7s\n",
      "[CV 3/5; 27/48] START max_depth=30, max_features=sqrt, min_samples_split=2, n_estimators=250\n",
      "[CV 3/5; 27/48] END max_depth=30, max_features=sqrt, min_samples_split=2, n_estimators=250;, score=0.856 total time=   3.7s\n",
      "[CV 4/5; 27/48] START max_depth=30, max_features=sqrt, min_samples_split=2, n_estimators=250\n",
      "[CV 4/5; 27/48] END max_depth=30, max_features=sqrt, min_samples_split=2, n_estimators=250;, score=0.862 total time=   3.8s\n",
      "[CV 5/5; 27/48] START max_depth=30, max_features=sqrt, min_samples_split=2, n_estimators=250\n",
      "[CV 5/5; 27/48] END max_depth=30, max_features=sqrt, min_samples_split=2, n_estimators=250;, score=0.855 total time=   3.7s\n",
      "[CV 1/5; 28/48] START max_depth=30, max_features=sqrt, min_samples_split=4, n_estimators=50\n",
      "[CV 1/5; 28/48] END max_depth=30, max_features=sqrt, min_samples_split=4, n_estimators=50;, score=0.860 total time=   0.7s\n",
      "[CV 2/5; 28/48] START max_depth=30, max_features=sqrt, min_samples_split=4, n_estimators=50\n",
      "[CV 2/5; 28/48] END max_depth=30, max_features=sqrt, min_samples_split=4, n_estimators=50;, score=0.854 total time=   0.7s\n",
      "[CV 3/5; 28/48] START max_depth=30, max_features=sqrt, min_samples_split=4, n_estimators=50\n",
      "[CV 3/5; 28/48] END max_depth=30, max_features=sqrt, min_samples_split=4, n_estimators=50;, score=0.858 total time=   0.7s\n",
      "[CV 4/5; 28/48] START max_depth=30, max_features=sqrt, min_samples_split=4, n_estimators=50\n",
      "[CV 4/5; 28/48] END max_depth=30, max_features=sqrt, min_samples_split=4, n_estimators=50;, score=0.865 total time=   0.7s\n",
      "[CV 5/5; 28/48] START max_depth=30, max_features=sqrt, min_samples_split=4, n_estimators=50\n",
      "[CV 5/5; 28/48] END max_depth=30, max_features=sqrt, min_samples_split=4, n_estimators=50;, score=0.859 total time=   0.7s\n",
      "[CV 1/5; 29/48] START max_depth=30, max_features=sqrt, min_samples_split=4, n_estimators=100\n",
      "[CV 1/5; 29/48] END max_depth=30, max_features=sqrt, min_samples_split=4, n_estimators=100;, score=0.863 total time=   1.5s\n",
      "[CV 2/5; 29/48] START max_depth=30, max_features=sqrt, min_samples_split=4, n_estimators=100\n",
      "[CV 2/5; 29/48] END max_depth=30, max_features=sqrt, min_samples_split=4, n_estimators=100;, score=0.856 total time=   1.5s\n",
      "[CV 3/5; 29/48] START max_depth=30, max_features=sqrt, min_samples_split=4, n_estimators=100\n",
      "[CV 3/5; 29/48] END max_depth=30, max_features=sqrt, min_samples_split=4, n_estimators=100;, score=0.860 total time=   1.5s\n",
      "[CV 4/5; 29/48] START max_depth=30, max_features=sqrt, min_samples_split=4, n_estimators=100\n",
      "[CV 4/5; 29/48] END max_depth=30, max_features=sqrt, min_samples_split=4, n_estimators=100;, score=0.865 total time=   1.5s\n",
      "[CV 5/5; 29/48] START max_depth=30, max_features=sqrt, min_samples_split=4, n_estimators=100\n",
      "[CV 5/5; 29/48] END max_depth=30, max_features=sqrt, min_samples_split=4, n_estimators=100;, score=0.863 total time=   1.5s\n",
      "[CV 1/5; 30/48] START max_depth=30, max_features=sqrt, min_samples_split=4, n_estimators=250\n",
      "[CV 1/5; 30/48] END max_depth=30, max_features=sqrt, min_samples_split=4, n_estimators=250;, score=0.863 total time=   3.7s\n",
      "[CV 2/5; 30/48] START max_depth=30, max_features=sqrt, min_samples_split=4, n_estimators=250\n",
      "[CV 2/5; 30/48] END max_depth=30, max_features=sqrt, min_samples_split=4, n_estimators=250;, score=0.856 total time=   3.6s\n",
      "[CV 3/5; 30/48] START max_depth=30, max_features=sqrt, min_samples_split=4, n_estimators=250\n",
      "[CV 3/5; 30/48] END max_depth=30, max_features=sqrt, min_samples_split=4, n_estimators=250;, score=0.859 total time=   3.7s\n",
      "[CV 4/5; 30/48] START max_depth=30, max_features=sqrt, min_samples_split=4, n_estimators=250\n",
      "[CV 4/5; 30/48] END max_depth=30, max_features=sqrt, min_samples_split=4, n_estimators=250;, score=0.863 total time=   3.6s\n",
      "[CV 5/5; 30/48] START max_depth=30, max_features=sqrt, min_samples_split=4, n_estimators=250\n",
      "[CV 5/5; 30/48] END max_depth=30, max_features=sqrt, min_samples_split=4, n_estimators=250;, score=0.862 total time=   3.7s\n",
      "[CV 1/5; 31/48] START max_depth=30, max_features=log2, min_samples_split=2, n_estimators=50\n",
      "[CV 1/5; 31/48] END max_depth=30, max_features=log2, min_samples_split=2, n_estimators=50;, score=0.860 total time=   0.7s\n",
      "[CV 2/5; 31/48] START max_depth=30, max_features=log2, min_samples_split=2, n_estimators=50\n",
      "[CV 2/5; 31/48] END max_depth=30, max_features=log2, min_samples_split=2, n_estimators=50;, score=0.854 total time=   0.7s\n",
      "[CV 3/5; 31/48] START max_depth=30, max_features=log2, min_samples_split=2, n_estimators=50\n",
      "[CV 3/5; 31/48] END max_depth=30, max_features=log2, min_samples_split=2, n_estimators=50;, score=0.855 total time=   0.7s\n",
      "[CV 4/5; 31/48] START max_depth=30, max_features=log2, min_samples_split=2, n_estimators=50\n",
      "[CV 4/5; 31/48] END max_depth=30, max_features=log2, min_samples_split=2, n_estimators=50;, score=0.863 total time=   0.7s\n",
      "[CV 5/5; 31/48] START max_depth=30, max_features=log2, min_samples_split=2, n_estimators=50\n",
      "[CV 5/5; 31/48] END max_depth=30, max_features=log2, min_samples_split=2, n_estimators=50;, score=0.856 total time=   0.7s\n",
      "[CV 1/5; 32/48] START max_depth=30, max_features=log2, min_samples_split=2, n_estimators=100\n",
      "[CV 1/5; 32/48] END max_depth=30, max_features=log2, min_samples_split=2, n_estimators=100;, score=0.857 total time=   1.3s\n",
      "[CV 2/5; 32/48] START max_depth=30, max_features=log2, min_samples_split=2, n_estimators=100\n",
      "[CV 2/5; 32/48] END max_depth=30, max_features=log2, min_samples_split=2, n_estimators=100;, score=0.851 total time=   1.3s\n",
      "[CV 3/5; 32/48] START max_depth=30, max_features=log2, min_samples_split=2, n_estimators=100\n",
      "[CV 3/5; 32/48] END max_depth=30, max_features=log2, min_samples_split=2, n_estimators=100;, score=0.855 total time=   1.3s\n",
      "[CV 4/5; 32/48] START max_depth=30, max_features=log2, min_samples_split=2, n_estimators=100\n",
      "[CV 4/5; 32/48] END max_depth=30, max_features=log2, min_samples_split=2, n_estimators=100;, score=0.862 total time=   1.3s\n",
      "[CV 5/5; 32/48] START max_depth=30, max_features=log2, min_samples_split=2, n_estimators=100\n",
      "[CV 5/5; 32/48] END max_depth=30, max_features=log2, min_samples_split=2, n_estimators=100;, score=0.856 total time=   1.3s\n",
      "[CV 1/5; 33/48] START max_depth=30, max_features=log2, min_samples_split=2, n_estimators=250\n",
      "[CV 1/5; 33/48] END max_depth=30, max_features=log2, min_samples_split=2, n_estimators=250;, score=0.861 total time=   3.3s\n",
      "[CV 2/5; 33/48] START max_depth=30, max_features=log2, min_samples_split=2, n_estimators=250\n",
      "[CV 2/5; 33/48] END max_depth=30, max_features=log2, min_samples_split=2, n_estimators=250;, score=0.855 total time=   3.3s\n",
      "[CV 3/5; 33/48] START max_depth=30, max_features=log2, min_samples_split=2, n_estimators=250\n",
      "[CV 3/5; 33/48] END max_depth=30, max_features=log2, min_samples_split=2, n_estimators=250;, score=0.856 total time=   3.4s\n",
      "[CV 4/5; 33/48] START max_depth=30, max_features=log2, min_samples_split=2, n_estimators=250\n",
      "[CV 4/5; 33/48] END max_depth=30, max_features=log2, min_samples_split=2, n_estimators=250;, score=0.862 total time=   3.3s\n",
      "[CV 5/5; 33/48] START max_depth=30, max_features=log2, min_samples_split=2, n_estimators=250\n",
      "[CV 5/5; 33/48] END max_depth=30, max_features=log2, min_samples_split=2, n_estimators=250;, score=0.859 total time=   3.3s\n",
      "[CV 1/5; 34/48] START max_depth=30, max_features=log2, min_samples_split=4, n_estimators=50\n",
      "[CV 1/5; 34/48] END max_depth=30, max_features=log2, min_samples_split=4, n_estimators=50;, score=0.861 total time=   0.7s\n",
      "[CV 2/5; 34/48] START max_depth=30, max_features=log2, min_samples_split=4, n_estimators=50\n",
      "[CV 2/5; 34/48] END max_depth=30, max_features=log2, min_samples_split=4, n_estimators=50;, score=0.856 total time=   0.6s\n",
      "[CV 3/5; 34/48] START max_depth=30, max_features=log2, min_samples_split=4, n_estimators=50\n",
      "[CV 3/5; 34/48] END max_depth=30, max_features=log2, min_samples_split=4, n_estimators=50;, score=0.859 total time=   0.6s\n",
      "[CV 4/5; 34/48] START max_depth=30, max_features=log2, min_samples_split=4, n_estimators=50\n",
      "[CV 4/5; 34/48] END max_depth=30, max_features=log2, min_samples_split=4, n_estimators=50;, score=0.865 total time=   0.7s\n",
      "[CV 5/5; 34/48] START max_depth=30, max_features=log2, min_samples_split=4, n_estimators=50\n",
      "[CV 5/5; 34/48] END max_depth=30, max_features=log2, min_samples_split=4, n_estimators=50;, score=0.862 total time=   0.6s\n",
      "[CV 1/5; 35/48] START max_depth=30, max_features=log2, min_samples_split=4, n_estimators=100\n",
      "[CV 1/5; 35/48] END max_depth=30, max_features=log2, min_samples_split=4, n_estimators=100;, score=0.859 total time=   1.3s\n",
      "[CV 2/5; 35/48] START max_depth=30, max_features=log2, min_samples_split=4, n_estimators=100\n",
      "[CV 2/5; 35/48] END max_depth=30, max_features=log2, min_samples_split=4, n_estimators=100;, score=0.857 total time=   1.3s\n",
      "[CV 3/5; 35/48] START max_depth=30, max_features=log2, min_samples_split=4, n_estimators=100\n",
      "[CV 3/5; 35/48] END max_depth=30, max_features=log2, min_samples_split=4, n_estimators=100;, score=0.859 total time=   1.3s\n",
      "[CV 4/5; 35/48] START max_depth=30, max_features=log2, min_samples_split=4, n_estimators=100\n",
      "[CV 4/5; 35/48] END max_depth=30, max_features=log2, min_samples_split=4, n_estimators=100;, score=0.865 total time=   1.3s\n",
      "[CV 5/5; 35/48] START max_depth=30, max_features=log2, min_samples_split=4, n_estimators=100\n",
      "[CV 5/5; 35/48] END max_depth=30, max_features=log2, min_samples_split=4, n_estimators=100;, score=0.861 total time=   1.3s\n",
      "[CV 1/5; 36/48] START max_depth=30, max_features=log2, min_samples_split=4, n_estimators=250\n",
      "[CV 1/5; 36/48] END max_depth=30, max_features=log2, min_samples_split=4, n_estimators=250;, score=0.863 total time=   3.2s\n",
      "[CV 2/5; 36/48] START max_depth=30, max_features=log2, min_samples_split=4, n_estimators=250\n",
      "[CV 2/5; 36/48] END max_depth=30, max_features=log2, min_samples_split=4, n_estimators=250;, score=0.858 total time=   3.3s\n",
      "[CV 3/5; 36/48] START max_depth=30, max_features=log2, min_samples_split=4, n_estimators=250\n",
      "[CV 3/5; 36/48] END max_depth=30, max_features=log2, min_samples_split=4, n_estimators=250;, score=0.858 total time=   3.2s\n",
      "[CV 4/5; 36/48] START max_depth=30, max_features=log2, min_samples_split=4, n_estimators=250\n",
      "[CV 4/5; 36/48] END max_depth=30, max_features=log2, min_samples_split=4, n_estimators=250;, score=0.865 total time=   3.2s\n",
      "[CV 5/5; 36/48] START max_depth=30, max_features=log2, min_samples_split=4, n_estimators=250\n",
      "[CV 5/5; 36/48] END max_depth=30, max_features=log2, min_samples_split=4, n_estimators=250;, score=0.861 total time=   3.2s\n",
      "[CV 1/5; 37/48] START max_depth=None, max_features=sqrt, min_samples_split=2, n_estimators=50\n",
      "[CV 1/5; 37/48] END max_depth=None, max_features=sqrt, min_samples_split=2, n_estimators=50;, score=0.848 total time=   0.8s\n",
      "[CV 2/5; 37/48] START max_depth=None, max_features=sqrt, min_samples_split=2, n_estimators=50\n",
      "[CV 2/5; 37/48] END max_depth=None, max_features=sqrt, min_samples_split=2, n_estimators=50;, score=0.844 total time=   0.8s\n",
      "[CV 3/5; 37/48] START max_depth=None, max_features=sqrt, min_samples_split=2, n_estimators=50\n",
      "[CV 3/5; 37/48] END max_depth=None, max_features=sqrt, min_samples_split=2, n_estimators=50;, score=0.846 total time=   0.9s\n",
      "[CV 4/5; 37/48] START max_depth=None, max_features=sqrt, min_samples_split=2, n_estimators=50\n",
      "[CV 4/5; 37/48] END max_depth=None, max_features=sqrt, min_samples_split=2, n_estimators=50;, score=0.851 total time=   0.8s\n",
      "[CV 5/5; 37/48] START max_depth=None, max_features=sqrt, min_samples_split=2, n_estimators=50\n",
      "[CV 5/5; 37/48] END max_depth=None, max_features=sqrt, min_samples_split=2, n_estimators=50;, score=0.847 total time=   0.9s\n",
      "[CV 1/5; 38/48] START max_depth=None, max_features=sqrt, min_samples_split=2, n_estimators=100\n",
      "[CV 1/5; 38/48] END max_depth=None, max_features=sqrt, min_samples_split=2, n_estimators=100;, score=0.850 total time=   1.7s\n",
      "[CV 2/5; 38/48] START max_depth=None, max_features=sqrt, min_samples_split=2, n_estimators=100\n",
      "[CV 2/5; 38/48] END max_depth=None, max_features=sqrt, min_samples_split=2, n_estimators=100;, score=0.845 total time=   1.7s\n",
      "[CV 3/5; 38/48] START max_depth=None, max_features=sqrt, min_samples_split=2, n_estimators=100\n",
      "[CV 3/5; 38/48] END max_depth=None, max_features=sqrt, min_samples_split=2, n_estimators=100;, score=0.844 total time=   1.7s\n",
      "[CV 4/5; 38/48] START max_depth=None, max_features=sqrt, min_samples_split=2, n_estimators=100\n",
      "[CV 4/5; 38/48] END max_depth=None, max_features=sqrt, min_samples_split=2, n_estimators=100;, score=0.853 total time=   1.7s\n",
      "[CV 5/5; 38/48] START max_depth=None, max_features=sqrt, min_samples_split=2, n_estimators=100\n",
      "[CV 5/5; 38/48] END max_depth=None, max_features=sqrt, min_samples_split=2, n_estimators=100;, score=0.845 total time=   1.7s\n",
      "[CV 1/5; 39/48] START max_depth=None, max_features=sqrt, min_samples_split=2, n_estimators=250\n",
      "[CV 1/5; 39/48] END max_depth=None, max_features=sqrt, min_samples_split=2, n_estimators=250;, score=0.851 total time=   4.2s\n",
      "[CV 2/5; 39/48] START max_depth=None, max_features=sqrt, min_samples_split=2, n_estimators=250\n",
      "[CV 2/5; 39/48] END max_depth=None, max_features=sqrt, min_samples_split=2, n_estimators=250;, score=0.846 total time=   4.2s\n",
      "[CV 3/5; 39/48] START max_depth=None, max_features=sqrt, min_samples_split=2, n_estimators=250\n",
      "[CV 3/5; 39/48] END max_depth=None, max_features=sqrt, min_samples_split=2, n_estimators=250;, score=0.845 total time=   4.1s\n",
      "[CV 4/5; 39/48] START max_depth=None, max_features=sqrt, min_samples_split=2, n_estimators=250\n",
      "[CV 4/5; 39/48] END max_depth=None, max_features=sqrt, min_samples_split=2, n_estimators=250;, score=0.856 total time=   4.2s\n",
      "[CV 5/5; 39/48] START max_depth=None, max_features=sqrt, min_samples_split=2, n_estimators=250\n",
      "[CV 5/5; 39/48] END max_depth=None, max_features=sqrt, min_samples_split=2, n_estimators=250;, score=0.845 total time=   4.1s\n",
      "[CV 1/5; 40/48] START max_depth=None, max_features=sqrt, min_samples_split=4, n_estimators=50\n",
      "[CV 1/5; 40/48] END max_depth=None, max_features=sqrt, min_samples_split=4, n_estimators=50;, score=0.856 total time=   0.8s\n",
      "[CV 2/5; 40/48] START max_depth=None, max_features=sqrt, min_samples_split=4, n_estimators=50\n",
      "[CV 2/5; 40/48] END max_depth=None, max_features=sqrt, min_samples_split=4, n_estimators=50;, score=0.851 total time=   0.8s\n",
      "[CV 3/5; 40/48] START max_depth=None, max_features=sqrt, min_samples_split=4, n_estimators=50\n",
      "[CV 3/5; 40/48] END max_depth=None, max_features=sqrt, min_samples_split=4, n_estimators=50;, score=0.850 total time=   0.8s\n",
      "[CV 4/5; 40/48] START max_depth=None, max_features=sqrt, min_samples_split=4, n_estimators=50\n",
      "[CV 4/5; 40/48] END max_depth=None, max_features=sqrt, min_samples_split=4, n_estimators=50;, score=0.857 total time=   0.8s\n",
      "[CV 5/5; 40/48] START max_depth=None, max_features=sqrt, min_samples_split=4, n_estimators=50\n",
      "[CV 5/5; 40/48] END max_depth=None, max_features=sqrt, min_samples_split=4, n_estimators=50;, score=0.853 total time=   0.8s\n",
      "[CV 1/5; 41/48] START max_depth=None, max_features=sqrt, min_samples_split=4, n_estimators=100\n",
      "[CV 1/5; 41/48] END max_depth=None, max_features=sqrt, min_samples_split=4, n_estimators=100;, score=0.857 total time=   1.6s\n",
      "[CV 2/5; 41/48] START max_depth=None, max_features=sqrt, min_samples_split=4, n_estimators=100\n",
      "[CV 2/5; 41/48] END max_depth=None, max_features=sqrt, min_samples_split=4, n_estimators=100;, score=0.851 total time=   1.6s\n",
      "[CV 3/5; 41/48] START max_depth=None, max_features=sqrt, min_samples_split=4, n_estimators=100\n",
      "[CV 3/5; 41/48] END max_depth=None, max_features=sqrt, min_samples_split=4, n_estimators=100;, score=0.852 total time=   1.6s\n",
      "[CV 4/5; 41/48] START max_depth=None, max_features=sqrt, min_samples_split=4, n_estimators=100\n",
      "[CV 4/5; 41/48] END max_depth=None, max_features=sqrt, min_samples_split=4, n_estimators=100;, score=0.858 total time=   1.6s\n",
      "[CV 5/5; 41/48] START max_depth=None, max_features=sqrt, min_samples_split=4, n_estimators=100\n",
      "[CV 5/5; 41/48] END max_depth=None, max_features=sqrt, min_samples_split=4, n_estimators=100;, score=0.856 total time=   1.6s\n",
      "[CV 1/5; 42/48] START max_depth=None, max_features=sqrt, min_samples_split=4, n_estimators=250\n",
      "[CV 1/5; 42/48] END max_depth=None, max_features=sqrt, min_samples_split=4, n_estimators=250;, score=0.857 total time=   4.0s\n",
      "[CV 2/5; 42/48] START max_depth=None, max_features=sqrt, min_samples_split=4, n_estimators=250\n",
      "[CV 2/5; 42/48] END max_depth=None, max_features=sqrt, min_samples_split=4, n_estimators=250;, score=0.853 total time=   3.9s\n",
      "[CV 3/5; 42/48] START max_depth=None, max_features=sqrt, min_samples_split=4, n_estimators=250\n",
      "[CV 3/5; 42/48] END max_depth=None, max_features=sqrt, min_samples_split=4, n_estimators=250;, score=0.852 total time=   4.0s\n",
      "[CV 4/5; 42/48] START max_depth=None, max_features=sqrt, min_samples_split=4, n_estimators=250\n",
      "[CV 4/5; 42/48] END max_depth=None, max_features=sqrt, min_samples_split=4, n_estimators=250;, score=0.860 total time=   3.9s\n",
      "[CV 5/5; 42/48] START max_depth=None, max_features=sqrt, min_samples_split=4, n_estimators=250\n",
      "[CV 5/5; 42/48] END max_depth=None, max_features=sqrt, min_samples_split=4, n_estimators=250;, score=0.853 total time=   4.0s\n",
      "[CV 1/5; 43/48] START max_depth=None, max_features=log2, min_samples_split=2, n_estimators=50\n",
      "[CV 1/5; 43/48] END max_depth=None, max_features=log2, min_samples_split=2, n_estimators=50;, score=0.847 total time=   0.8s\n",
      "[CV 2/5; 43/48] START max_depth=None, max_features=log2, min_samples_split=2, n_estimators=50\n",
      "[CV 2/5; 43/48] END max_depth=None, max_features=log2, min_samples_split=2, n_estimators=50;, score=0.843 total time=   0.8s\n",
      "[CV 3/5; 43/48] START max_depth=None, max_features=log2, min_samples_split=2, n_estimators=50\n",
      "[CV 3/5; 43/48] END max_depth=None, max_features=log2, min_samples_split=2, n_estimators=50;, score=0.842 total time=   0.8s\n",
      "[CV 4/5; 43/48] START max_depth=None, max_features=log2, min_samples_split=2, n_estimators=50\n",
      "[CV 4/5; 43/48] END max_depth=None, max_features=log2, min_samples_split=2, n_estimators=50;, score=0.851 total time=   0.8s\n",
      "[CV 5/5; 43/48] START max_depth=None, max_features=log2, min_samples_split=2, n_estimators=50\n",
      "[CV 5/5; 43/48] END max_depth=None, max_features=log2, min_samples_split=2, n_estimators=50;, score=0.844 total time=   0.8s\n",
      "[CV 1/5; 44/48] START max_depth=None, max_features=log2, min_samples_split=2, n_estimators=100\n",
      "[CV 1/5; 44/48] END max_depth=None, max_features=log2, min_samples_split=2, n_estimators=100;, score=0.850 total time=   1.6s\n",
      "[CV 2/5; 44/48] START max_depth=None, max_features=log2, min_samples_split=2, n_estimators=100\n",
      "[CV 2/5; 44/48] END max_depth=None, max_features=log2, min_samples_split=2, n_estimators=100;, score=0.841 total time=   1.6s\n",
      "[CV 3/5; 44/48] START max_depth=None, max_features=log2, min_samples_split=2, n_estimators=100\n",
      "[CV 3/5; 44/48] END max_depth=None, max_features=log2, min_samples_split=2, n_estimators=100;, score=0.843 total time=   1.6s\n",
      "[CV 4/5; 44/48] START max_depth=None, max_features=log2, min_samples_split=2, n_estimators=100\n",
      "[CV 4/5; 44/48] END max_depth=None, max_features=log2, min_samples_split=2, n_estimators=100;, score=0.851 total time=   1.5s\n",
      "[CV 5/5; 44/48] START max_depth=None, max_features=log2, min_samples_split=2, n_estimators=100\n",
      "[CV 5/5; 44/48] END max_depth=None, max_features=log2, min_samples_split=2, n_estimators=100;, score=0.844 total time=   1.7s\n",
      "[CV 1/5; 45/48] START max_depth=None, max_features=log2, min_samples_split=2, n_estimators=250\n",
      "[CV 1/5; 45/48] END max_depth=None, max_features=log2, min_samples_split=2, n_estimators=250;, score=0.850 total time=   3.7s\n",
      "[CV 2/5; 45/48] START max_depth=None, max_features=log2, min_samples_split=2, n_estimators=250\n",
      "[CV 2/5; 45/48] END max_depth=None, max_features=log2, min_samples_split=2, n_estimators=250;, score=0.843 total time=   3.8s\n",
      "[CV 3/5; 45/48] START max_depth=None, max_features=log2, min_samples_split=2, n_estimators=250\n",
      "[CV 3/5; 45/48] END max_depth=None, max_features=log2, min_samples_split=2, n_estimators=250;, score=0.845 total time=   3.7s\n",
      "[CV 4/5; 45/48] START max_depth=None, max_features=log2, min_samples_split=2, n_estimators=250\n",
      "[CV 4/5; 45/48] END max_depth=None, max_features=log2, min_samples_split=2, n_estimators=250;, score=0.853 total time=   3.9s\n",
      "[CV 5/5; 45/48] START max_depth=None, max_features=log2, min_samples_split=2, n_estimators=250\n",
      "[CV 5/5; 45/48] END max_depth=None, max_features=log2, min_samples_split=2, n_estimators=250;, score=0.845 total time=   3.7s\n",
      "[CV 1/5; 46/48] START max_depth=None, max_features=log2, min_samples_split=4, n_estimators=50\n",
      "[CV 1/5; 46/48] END max_depth=None, max_features=log2, min_samples_split=4, n_estimators=50;, score=0.853 total time=   0.7s\n",
      "[CV 2/5; 46/48] START max_depth=None, max_features=log2, min_samples_split=4, n_estimators=50\n",
      "[CV 2/5; 46/48] END max_depth=None, max_features=log2, min_samples_split=4, n_estimators=50;, score=0.848 total time=   0.7s\n",
      "[CV 3/5; 46/48] START max_depth=None, max_features=log2, min_samples_split=4, n_estimators=50\n",
      "[CV 3/5; 46/48] END max_depth=None, max_features=log2, min_samples_split=4, n_estimators=50;, score=0.847 total time=   0.7s\n",
      "[CV 4/5; 46/48] START max_depth=None, max_features=log2, min_samples_split=4, n_estimators=50\n",
      "[CV 4/5; 46/48] END max_depth=None, max_features=log2, min_samples_split=4, n_estimators=50;, score=0.855 total time=   0.7s\n",
      "[CV 5/5; 46/48] START max_depth=None, max_features=log2, min_samples_split=4, n_estimators=50\n",
      "[CV 5/5; 46/48] END max_depth=None, max_features=log2, min_samples_split=4, n_estimators=50;, score=0.851 total time=   0.7s\n",
      "[CV 1/5; 47/48] START max_depth=None, max_features=log2, min_samples_split=4, n_estimators=100\n",
      "[CV 1/5; 47/48] END max_depth=None, max_features=log2, min_samples_split=4, n_estimators=100;, score=0.855 total time=   1.4s\n",
      "[CV 2/5; 47/48] START max_depth=None, max_features=log2, min_samples_split=4, n_estimators=100\n",
      "[CV 2/5; 47/48] END max_depth=None, max_features=log2, min_samples_split=4, n_estimators=100;, score=0.850 total time=   1.5s\n",
      "[CV 3/5; 47/48] START max_depth=None, max_features=log2, min_samples_split=4, n_estimators=100\n",
      "[CV 3/5; 47/48] END max_depth=None, max_features=log2, min_samples_split=4, n_estimators=100;, score=0.850 total time=   1.4s\n",
      "[CV 4/5; 47/48] START max_depth=None, max_features=log2, min_samples_split=4, n_estimators=100\n",
      "[CV 4/5; 47/48] END max_depth=None, max_features=log2, min_samples_split=4, n_estimators=100;, score=0.856 total time=   1.5s\n",
      "[CV 5/5; 47/48] START max_depth=None, max_features=log2, min_samples_split=4, n_estimators=100\n",
      "[CV 5/5; 47/48] END max_depth=None, max_features=log2, min_samples_split=4, n_estimators=100;, score=0.850 total time=   1.4s\n",
      "[CV 1/5; 48/48] START max_depth=None, max_features=log2, min_samples_split=4, n_estimators=250\n",
      "[CV 1/5; 48/48] END max_depth=None, max_features=log2, min_samples_split=4, n_estimators=250;, score=0.854 total time=   3.7s\n",
      "[CV 2/5; 48/48] START max_depth=None, max_features=log2, min_samples_split=4, n_estimators=250\n",
      "[CV 2/5; 48/48] END max_depth=None, max_features=log2, min_samples_split=4, n_estimators=250;, score=0.853 total time=   3.7s\n",
      "[CV 3/5; 48/48] START max_depth=None, max_features=log2, min_samples_split=4, n_estimators=250\n",
      "[CV 3/5; 48/48] END max_depth=None, max_features=log2, min_samples_split=4, n_estimators=250;, score=0.850 total time=   3.9s\n",
      "[CV 4/5; 48/48] START max_depth=None, max_features=log2, min_samples_split=4, n_estimators=250\n",
      "[CV 4/5; 48/48] END max_depth=None, max_features=log2, min_samples_split=4, n_estimators=250;, score=0.858 total time=   3.8s\n",
      "[CV 5/5; 48/48] START max_depth=None, max_features=log2, min_samples_split=4, n_estimators=250\n",
      "[CV 5/5; 48/48] END max_depth=None, max_features=log2, min_samples_split=4, n_estimators=250;, score=0.852 total time=   3.7s\n"
     ]
    },
    {
     "data": {
      "text/plain": "GridSearchCV(estimator=RandomForestClassifier(),\n             param_grid={'max_depth': [5, 10, 30, None],\n                         'max_features': ['sqrt', 'log2'],\n                         'min_samples_split': [2, 4],\n                         'n_estimators': [50, 100, 250]},\n             verbose=10)",
      "text/html": "<style>#sk-container-id-3 {color: black;}#sk-container-id-3 pre{padding: 0;}#sk-container-id-3 div.sk-toggleable {background-color: white;}#sk-container-id-3 label.sk-toggleable__label {cursor: pointer;display: block;width: 100%;margin-bottom: 0;padding: 0.3em;box-sizing: border-box;text-align: center;}#sk-container-id-3 label.sk-toggleable__label-arrow:before {content: \"▸\";float: left;margin-right: 0.25em;color: #696969;}#sk-container-id-3 label.sk-toggleable__label-arrow:hover:before {color: black;}#sk-container-id-3 div.sk-estimator:hover label.sk-toggleable__label-arrow:before {color: black;}#sk-container-id-3 div.sk-toggleable__content {max-height: 0;max-width: 0;overflow: hidden;text-align: left;background-color: #f0f8ff;}#sk-container-id-3 div.sk-toggleable__content pre {margin: 0.2em;color: black;border-radius: 0.25em;background-color: #f0f8ff;}#sk-container-id-3 input.sk-toggleable__control:checked~div.sk-toggleable__content {max-height: 200px;max-width: 100%;overflow: auto;}#sk-container-id-3 input.sk-toggleable__control:checked~label.sk-toggleable__label-arrow:before {content: \"▾\";}#sk-container-id-3 div.sk-estimator input.sk-toggleable__control:checked~label.sk-toggleable__label {background-color: #d4ebff;}#sk-container-id-3 div.sk-label input.sk-toggleable__control:checked~label.sk-toggleable__label {background-color: #d4ebff;}#sk-container-id-3 input.sk-hidden--visually {border: 0;clip: rect(1px 1px 1px 1px);clip: rect(1px, 1px, 1px, 1px);height: 1px;margin: -1px;overflow: hidden;padding: 0;position: absolute;width: 1px;}#sk-container-id-3 div.sk-estimator {font-family: monospace;background-color: #f0f8ff;border: 1px dotted black;border-radius: 0.25em;box-sizing: border-box;margin-bottom: 0.5em;}#sk-container-id-3 div.sk-estimator:hover {background-color: #d4ebff;}#sk-container-id-3 div.sk-parallel-item::after {content: \"\";width: 100%;border-bottom: 1px solid gray;flex-grow: 1;}#sk-container-id-3 div.sk-label:hover label.sk-toggleable__label {background-color: #d4ebff;}#sk-container-id-3 div.sk-serial::before {content: \"\";position: absolute;border-left: 1px solid gray;box-sizing: border-box;top: 0;bottom: 0;left: 50%;z-index: 0;}#sk-container-id-3 div.sk-serial {display: flex;flex-direction: column;align-items: center;background-color: white;padding-right: 0.2em;padding-left: 0.2em;position: relative;}#sk-container-id-3 div.sk-item {position: relative;z-index: 1;}#sk-container-id-3 div.sk-parallel {display: flex;align-items: stretch;justify-content: center;background-color: white;position: relative;}#sk-container-id-3 div.sk-item::before, #sk-container-id-3 div.sk-parallel-item::before {content: \"\";position: absolute;border-left: 1px solid gray;box-sizing: border-box;top: 0;bottom: 0;left: 50%;z-index: -1;}#sk-container-id-3 div.sk-parallel-item {display: flex;flex-direction: column;z-index: 1;position: relative;background-color: white;}#sk-container-id-3 div.sk-parallel-item:first-child::after {align-self: flex-end;width: 50%;}#sk-container-id-3 div.sk-parallel-item:last-child::after {align-self: flex-start;width: 50%;}#sk-container-id-3 div.sk-parallel-item:only-child::after {width: 0;}#sk-container-id-3 div.sk-dashed-wrapped {border: 1px dashed gray;margin: 0 0.4em 0.5em 0.4em;box-sizing: border-box;padding-bottom: 0.4em;background-color: white;}#sk-container-id-3 div.sk-label label {font-family: monospace;font-weight: bold;display: inline-block;line-height: 1.2em;}#sk-container-id-3 div.sk-label-container {text-align: center;}#sk-container-id-3 div.sk-container {/* jupyter's `normalize.less` sets `[hidden] { display: none; }` but bootstrap.min.css set `[hidden] { display: none !important; }` so we also need the `!important` here to be able to override the default hidden behavior on the sphinx rendered scikit-learn.org. See: https://github.com/scikit-learn/scikit-learn/issues/21755 */display: inline-block !important;position: relative;}#sk-container-id-3 div.sk-text-repr-fallback {display: none;}</style><div id=\"sk-container-id-3\" class=\"sk-top-container\"><div class=\"sk-text-repr-fallback\"><pre>GridSearchCV(estimator=RandomForestClassifier(),\n             param_grid={&#x27;max_depth&#x27;: [5, 10, 30, None],\n                         &#x27;max_features&#x27;: [&#x27;sqrt&#x27;, &#x27;log2&#x27;],\n                         &#x27;min_samples_split&#x27;: [2, 4],\n                         &#x27;n_estimators&#x27;: [50, 100, 250]},\n             verbose=10)</pre><b>In a Jupyter environment, please rerun this cell to show the HTML representation or trust the notebook. <br />On GitHub, the HTML representation is unable to render, please try loading this page with nbviewer.org.</b></div><div class=\"sk-container\" hidden><div class=\"sk-item sk-dashed-wrapped\"><div class=\"sk-label-container\"><div class=\"sk-label sk-toggleable\"><input class=\"sk-toggleable__control sk-hidden--visually\" id=\"sk-estimator-id-3\" type=\"checkbox\" ><label for=\"sk-estimator-id-3\" class=\"sk-toggleable__label sk-toggleable__label-arrow\">GridSearchCV</label><div class=\"sk-toggleable__content\"><pre>GridSearchCV(estimator=RandomForestClassifier(),\n             param_grid={&#x27;max_depth&#x27;: [5, 10, 30, None],\n                         &#x27;max_features&#x27;: [&#x27;sqrt&#x27;, &#x27;log2&#x27;],\n                         &#x27;min_samples_split&#x27;: [2, 4],\n                         &#x27;n_estimators&#x27;: [50, 100, 250]},\n             verbose=10)</pre></div></div></div><div class=\"sk-parallel\"><div class=\"sk-parallel-item\"><div class=\"sk-item\"><div class=\"sk-label-container\"><div class=\"sk-label sk-toggleable\"><input class=\"sk-toggleable__control sk-hidden--visually\" id=\"sk-estimator-id-4\" type=\"checkbox\" ><label for=\"sk-estimator-id-4\" class=\"sk-toggleable__label sk-toggleable__label-arrow\">estimator: RandomForestClassifier</label><div class=\"sk-toggleable__content\"><pre>RandomForestClassifier()</pre></div></div></div><div class=\"sk-serial\"><div class=\"sk-item\"><div class=\"sk-estimator sk-toggleable\"><input class=\"sk-toggleable__control sk-hidden--visually\" id=\"sk-estimator-id-5\" type=\"checkbox\" ><label for=\"sk-estimator-id-5\" class=\"sk-toggleable__label sk-toggleable__label-arrow\">RandomForestClassifier</label><div class=\"sk-toggleable__content\"><pre>RandomForestClassifier()</pre></div></div></div></div></div></div></div></div></div></div>"
     },
     "execution_count": 37,
     "metadata": {},
     "output_type": "execute_result"
    }
   ],
   "source": [
    "grid_search.fit(train_X,train_Y) "
   ],
   "metadata": {
    "collapsed": false,
    "ExecuteTime": {
     "end_time": "2023-10-18T09:37:26.235217Z",
     "start_time": "2023-10-18T09:31:56.220117Z"
    }
   },
   "id": "ad9decaadfc36171"
  },
  {
   "cell_type": "code",
   "execution_count": 38,
   "outputs": [
    {
     "data": {
      "text/plain": "RandomForestClassifier(max_depth=30, min_samples_split=4)",
      "text/html": "<style>#sk-container-id-4 {color: black;}#sk-container-id-4 pre{padding: 0;}#sk-container-id-4 div.sk-toggleable {background-color: white;}#sk-container-id-4 label.sk-toggleable__label {cursor: pointer;display: block;width: 100%;margin-bottom: 0;padding: 0.3em;box-sizing: border-box;text-align: center;}#sk-container-id-4 label.sk-toggleable__label-arrow:before {content: \"▸\";float: left;margin-right: 0.25em;color: #696969;}#sk-container-id-4 label.sk-toggleable__label-arrow:hover:before {color: black;}#sk-container-id-4 div.sk-estimator:hover label.sk-toggleable__label-arrow:before {color: black;}#sk-container-id-4 div.sk-toggleable__content {max-height: 0;max-width: 0;overflow: hidden;text-align: left;background-color: #f0f8ff;}#sk-container-id-4 div.sk-toggleable__content pre {margin: 0.2em;color: black;border-radius: 0.25em;background-color: #f0f8ff;}#sk-container-id-4 input.sk-toggleable__control:checked~div.sk-toggleable__content {max-height: 200px;max-width: 100%;overflow: auto;}#sk-container-id-4 input.sk-toggleable__control:checked~label.sk-toggleable__label-arrow:before {content: \"▾\";}#sk-container-id-4 div.sk-estimator input.sk-toggleable__control:checked~label.sk-toggleable__label {background-color: #d4ebff;}#sk-container-id-4 div.sk-label input.sk-toggleable__control:checked~label.sk-toggleable__label {background-color: #d4ebff;}#sk-container-id-4 input.sk-hidden--visually {border: 0;clip: rect(1px 1px 1px 1px);clip: rect(1px, 1px, 1px, 1px);height: 1px;margin: -1px;overflow: hidden;padding: 0;position: absolute;width: 1px;}#sk-container-id-4 div.sk-estimator {font-family: monospace;background-color: #f0f8ff;border: 1px dotted black;border-radius: 0.25em;box-sizing: border-box;margin-bottom: 0.5em;}#sk-container-id-4 div.sk-estimator:hover {background-color: #d4ebff;}#sk-container-id-4 div.sk-parallel-item::after {content: \"\";width: 100%;border-bottom: 1px solid gray;flex-grow: 1;}#sk-container-id-4 div.sk-label:hover label.sk-toggleable__label {background-color: #d4ebff;}#sk-container-id-4 div.sk-serial::before {content: \"\";position: absolute;border-left: 1px solid gray;box-sizing: border-box;top: 0;bottom: 0;left: 50%;z-index: 0;}#sk-container-id-4 div.sk-serial {display: flex;flex-direction: column;align-items: center;background-color: white;padding-right: 0.2em;padding-left: 0.2em;position: relative;}#sk-container-id-4 div.sk-item {position: relative;z-index: 1;}#sk-container-id-4 div.sk-parallel {display: flex;align-items: stretch;justify-content: center;background-color: white;position: relative;}#sk-container-id-4 div.sk-item::before, #sk-container-id-4 div.sk-parallel-item::before {content: \"\";position: absolute;border-left: 1px solid gray;box-sizing: border-box;top: 0;bottom: 0;left: 50%;z-index: -1;}#sk-container-id-4 div.sk-parallel-item {display: flex;flex-direction: column;z-index: 1;position: relative;background-color: white;}#sk-container-id-4 div.sk-parallel-item:first-child::after {align-self: flex-end;width: 50%;}#sk-container-id-4 div.sk-parallel-item:last-child::after {align-self: flex-start;width: 50%;}#sk-container-id-4 div.sk-parallel-item:only-child::after {width: 0;}#sk-container-id-4 div.sk-dashed-wrapped {border: 1px dashed gray;margin: 0 0.4em 0.5em 0.4em;box-sizing: border-box;padding-bottom: 0.4em;background-color: white;}#sk-container-id-4 div.sk-label label {font-family: monospace;font-weight: bold;display: inline-block;line-height: 1.2em;}#sk-container-id-4 div.sk-label-container {text-align: center;}#sk-container-id-4 div.sk-container {/* jupyter's `normalize.less` sets `[hidden] { display: none; }` but bootstrap.min.css set `[hidden] { display: none !important; }` so we also need the `!important` here to be able to override the default hidden behavior on the sphinx rendered scikit-learn.org. See: https://github.com/scikit-learn/scikit-learn/issues/21755 */display: inline-block !important;position: relative;}#sk-container-id-4 div.sk-text-repr-fallback {display: none;}</style><div id=\"sk-container-id-4\" class=\"sk-top-container\"><div class=\"sk-text-repr-fallback\"><pre>RandomForestClassifier(max_depth=30, min_samples_split=4)</pre><b>In a Jupyter environment, please rerun this cell to show the HTML representation or trust the notebook. <br />On GitHub, the HTML representation is unable to render, please try loading this page with nbviewer.org.</b></div><div class=\"sk-container\" hidden><div class=\"sk-item\"><div class=\"sk-estimator sk-toggleable\"><input class=\"sk-toggleable__control sk-hidden--visually\" id=\"sk-estimator-id-6\" type=\"checkbox\" checked><label for=\"sk-estimator-id-6\" class=\"sk-toggleable__label sk-toggleable__label-arrow\">RandomForestClassifier</label><div class=\"sk-toggleable__content\"><pre>RandomForestClassifier(max_depth=30, min_samples_split=4)</pre></div></div></div></div></div>"
     },
     "execution_count": 38,
     "metadata": {},
     "output_type": "execute_result"
    }
   ],
   "source": [
    "grid_search.best_estimator_"
   ],
   "metadata": {
    "collapsed": false,
    "ExecuteTime": {
     "end_time": "2023-10-18T09:38:04.145071Z",
     "start_time": "2023-10-18T09:38:04.129486Z"
    }
   },
   "id": "e64d2597d98dd420"
  },
  {
   "cell_type": "code",
   "execution_count": 39,
   "outputs": [],
   "source": [
    "forest = grid_search.best_estimator_"
   ],
   "metadata": {
    "collapsed": false,
    "ExecuteTime": {
     "end_time": "2023-10-18T09:38:53.029539Z",
     "start_time": "2023-10-18T09:38:53.014117Z"
    }
   },
   "id": "38d25c95894a038d"
  },
  {
   "cell_type": "code",
   "execution_count": 40,
   "outputs": [
    {
     "data": {
      "text/plain": "0.8651857917903573"
     },
     "execution_count": 40,
     "metadata": {},
     "output_type": "execute_result"
    }
   ],
   "source": [
    "forest.score(test_X,test_Y)"
   ],
   "metadata": {
    "collapsed": false,
    "ExecuteTime": {
     "end_time": "2023-10-18T09:39:10.668727Z",
     "start_time": "2023-10-18T09:39:10.527878Z"
    }
   },
   "id": "4daa4a0503c7cce8"
  },
  {
   "cell_type": "code",
   "execution_count": null,
   "outputs": [],
   "source": [],
   "metadata": {
    "collapsed": false
   },
   "id": "41867f11d7a7d131"
  }
 ],
 "metadata": {
  "kernelspec": {
   "display_name": "Python 3 (ipykernel)",
   "language": "python",
   "name": "python3"
  },
  "language_info": {
   "codemirror_mode": {
    "name": "ipython",
    "version": 3
   },
   "file_extension": ".py",
   "mimetype": "text/x-python",
   "name": "python",
   "nbconvert_exporter": "python",
   "pygments_lexer": "ipython3",
   "version": "3.11.4"
  }
 },
 "nbformat": 4,
 "nbformat_minor": 5
}
